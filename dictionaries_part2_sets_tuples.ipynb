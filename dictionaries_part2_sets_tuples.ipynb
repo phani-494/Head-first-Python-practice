{
 "cells": [
  {
   "cell_type": "markdown",
   "id": "76679b9b",
   "metadata": {},
   "source": [
    "# Dictionaries-part2"
   ]
  },
  {
   "cell_type": "markdown",
   "id": "d7fa44b1",
   "metadata": {},
   "source": [
    "### use not in operator to initialiase the non existent keys"
   ]
  },
  {
   "cell_type": "code",
   "execution_count": 2,
   "id": "8a390a9a",
   "metadata": {},
   "outputs": [],
   "source": [
    "fruits=[\"apple\",\"banana\",\"mango\",\"apple\",\"kiwi\",\"mango\",\"badam\",\"grapes\",\"sapota\"]"
   ]
  },
  {
   "cell_type": "code",
   "execution_count": 8,
   "id": "21aff486",
   "metadata": {},
   "outputs": [
    {
     "name": "stdout",
     "output_type": "stream",
     "text": [
      "{'apple': 0, 'banana': 0, 'mango': 0, 'kiwi': 0, 'badam': 0, 'grapes': 0, 'sapota': 0}\n"
     ]
    }
   ],
   "source": [
    "d1={}\n",
    "for fruit in fruits: # initialsing all the fruits to zero before accessing them\n",
    "    if fruit not in d1:\n",
    "        d1[fruit]=0\n",
    "print(d1)\n"
   ]
  },
  {
   "cell_type": "markdown",
   "id": "f549d502",
   "metadata": {},
   "source": [
    "# setdefault\n",
    "--> helps to avoid the key error exception which occurs when any key is not found in the dictionary"
   ]
  },
  {
   "cell_type": "code",
   "execution_count": 10,
   "id": "1300c768",
   "metadata": {},
   "outputs": [],
   "source": [
    "if \"pears\" not in fruits:\n",
    "    d1[\"pears\"]=0\n",
    "   # The setdefault method does what the two\u0002line if/not in statements do, but uses only a single line of code."
   ]
  },
  {
   "cell_type": "code",
   "execution_count": 11,
   "id": "e1671b6f",
   "metadata": {},
   "outputs": [
    {
     "data": {
      "text/plain": [
       "{'apple': 0,\n",
       " 'banana': 0,\n",
       " 'mango': 0,\n",
       " 'kiwi': 0,\n",
       " 'badam': 0,\n",
       " 'grapes': 0,\n",
       " 'sapota': 0,\n",
       " 'pears': 0}"
      ]
     },
     "execution_count": 11,
     "metadata": {},
     "output_type": "execute_result"
    }
   ],
   "source": [
    "d1"
   ]
  },
  {
   "cell_type": "code",
   "execution_count": 12,
   "id": "8224b7c9",
   "metadata": {},
   "outputs": [],
   "source": [
    "# instead of the two lines used above we can use the single line setdefault here and execute\n",
    "# setdefault will helps to initialise the non existent key to the value user provide if the key doesn't exist"
   ]
  },
  {
   "cell_type": "code",
   "execution_count": 13,
   "id": "66e7e8ce",
   "metadata": {},
   "outputs": [
    {
     "data": {
      "text/plain": [
       "10"
      ]
     },
     "execution_count": 13,
     "metadata": {},
     "output_type": "execute_result"
    }
   ],
   "source": [
    "d1.setdefault(\"lemon\",10) # since lemon is not exist so it worked here"
   ]
  },
  {
   "cell_type": "code",
   "execution_count": 14,
   "id": "b7980bb6",
   "metadata": {},
   "outputs": [
    {
     "data": {
      "text/plain": [
       "{'apple': 0,\n",
       " 'banana': 0,\n",
       " 'mango': 0,\n",
       " 'kiwi': 0,\n",
       " 'badam': 0,\n",
       " 'grapes': 0,\n",
       " 'sapota': 0,\n",
       " 'pears': 0,\n",
       " 'lemon': 10}"
      ]
     },
     "execution_count": 14,
     "metadata": {},
     "output_type": "execute_result"
    }
   ],
   "source": [
    "d1"
   ]
  },
  {
   "cell_type": "code",
   "execution_count": 17,
   "id": "4ae70c55",
   "metadata": {},
   "outputs": [
    {
     "data": {
      "text/plain": [
       "0"
      ]
     },
     "execution_count": 17,
     "metadata": {},
     "output_type": "execute_result"
    }
   ],
   "source": [
    "d1.setdefault(\"banana\",7) # since the banana key is already there so it won't changes to the 7 value because the effect won't takes place on the existent key"
   ]
  },
  {
   "cell_type": "code",
   "execution_count": 18,
   "id": "35c93deb",
   "metadata": {},
   "outputs": [
    {
     "data": {
      "text/plain": [
       "{'apple': 0,\n",
       " 'banana': 0,\n",
       " 'mango': 0,\n",
       " 'kiwi': 0,\n",
       " 'badam': 0,\n",
       " 'grapes': 0,\n",
       " 'sapota': 0,\n",
       " 'pears': 0,\n",
       " 'lemon': 10}"
      ]
     },
     "execution_count": 18,
     "metadata": {},
     "output_type": "execute_result"
    }
   ],
   "source": [
    "d1"
   ]
  },
  {
   "cell_type": "code",
   "execution_count": 29,
   "id": "e6a1b7f3",
   "metadata": {},
   "outputs": [
    {
     "name": "stdout",
     "output_type": "stream",
     "text": [
      "[('apple', 2), ('badam', 1), ('banana', 1), ('grapes', 1), ('kiwi', 1), ('mango', 2), ('sapota', 1)]\n"
     ]
    }
   ],
   "source": [
    "d1={}\n",
    "for fruit in fruits: # initialsing all the fruits to zero before accessing them\n",
    "        d1.setdefault(fruit,0) # this will set fruit to zero if it is not found\n",
    "        if fruit in d1:\n",
    "            d1[fruit]+=1\n",
    "print(sorted(d1.items()))"
   ]
  },
  {
   "cell_type": "markdown",
   "id": "f6038062",
   "metadata": {},
   "source": [
    "# SETS"
   ]
  },
  {
   "cell_type": "markdown",
   "id": "fd434f27",
   "metadata": {},
   "source": [
    "Sets: simply convert the long \n",
    "list of names to a set (which removes the duplicates), then convert the set back to a list \n",
    "and—ta da!—you have a list of unique first names"
   ]
  },
  {
   "cell_type": "code",
   "execution_count": 1,
   "id": "c443f5b7",
   "metadata": {},
   "outputs": [],
   "source": [
    "#. As lists always perform slow sequential searches, sets should always be preferred for lookup. "
   ]
  },
  {
   "cell_type": "code",
   "execution_count": 2,
   "id": "0c288d80",
   "metadata": {},
   "outputs": [],
   "source": [
    "set1={'a',\"e\",\"i\",\"o\",\"a\",\"e\",\"i\",\"u\",\"i\"}"
   ]
  },
  {
   "cell_type": "code",
   "execution_count": 4,
   "id": "0dca4d29",
   "metadata": {},
   "outputs": [
    {
     "data": {
      "text/plain": [
       "{'a', 'e', 'i', 'o', 'u'}"
      ]
     },
     "execution_count": 4,
     "metadata": {},
     "output_type": "execute_result"
    }
   ],
   "source": [
    "set1"
   ]
  },
  {
   "cell_type": "code",
   "execution_count": 5,
   "id": "0f470629",
   "metadata": {},
   "outputs": [
    {
     "name": "stdout",
     "output_type": "stream",
     "text": [
      "{'u', 'o', 'e', 'a', 'i'}\n"
     ]
    }
   ],
   "source": [
    "print(set1)"
   ]
  },
  {
   "cell_type": "code",
   "execution_count": 6,
   "id": "36f26f4d",
   "metadata": {},
   "outputs": [],
   "source": [
    "# here duplicates are removed from set and we got unique elements but not in particular order\n",
    "# sets also uses the { } but there will be colon in dictionary,here no colon in sets."
   ]
  },
  {
   "cell_type": "code",
   "execution_count": 7,
   "id": "a6d3139d",
   "metadata": {},
   "outputs": [
    {
     "data": {
      "text/plain": [
       "dict"
      ]
     },
     "execution_count": 7,
     "metadata": {},
     "output_type": "execute_result"
    }
   ],
   "source": [
    "type({})"
   ]
  },
  {
   "cell_type": "code",
   "execution_count": 8,
   "id": "b923003e",
   "metadata": {},
   "outputs": [
    {
     "data": {
      "text/plain": [
       "set"
      ]
     },
     "execution_count": 8,
     "metadata": {},
     "output_type": "execute_result"
    }
   ],
   "source": [
    "type({1,})"
   ]
  },
  {
   "cell_type": "code",
   "execution_count": 12,
   "id": "4d615410",
   "metadata": {},
   "outputs": [
    {
     "name": "stdout",
     "output_type": "stream",
     "text": [
      "{1, 2, 3, 4, 5, 6, 7}\n",
      "[1, 2, 3, 4, 5, 6, 7]\n"
     ]
    }
   ],
   "source": [
    "l1=[1,2,3,4,5,6,7,5,4,3,2,1]\n",
    "y=set(l1) # we can convert a list to  a set\n",
    "print(y)\n",
    "z=list(y)\n",
    "print(z)"
   ]
  },
  {
   "cell_type": "markdown",
   "id": "97c843cf",
   "metadata": {},
   "source": [
    "1. Insertion order is not maintained by the interpreter when a set is used. However. like all other data \n",
    "   structures, sets can be ordered on output with the sorted function."
   ]
  },
  {
   "cell_type": "markdown",
   "id": "e90a3ca5",
   "metadata": {},
   "source": [
    "2.you can pass any sequence (such as a string) to the set function to quickly generate a set"
   ]
  },
  {
   "cell_type": "code",
   "execution_count": 13,
   "id": "b07b6aac",
   "metadata": {},
   "outputs": [],
   "source": [
    "str1=\"Indra is the greatest Data scientist\""
   ]
  },
  {
   "cell_type": "code",
   "execution_count": 14,
   "id": "1cef9934",
   "metadata": {},
   "outputs": [
    {
     "data": {
      "text/plain": [
       "{' ', 'D', 'I', 'a', 'c', 'd', 'e', 'g', 'i', 'n', 'r', 's', 't'}"
      ]
     },
     "execution_count": 14,
     "metadata": {},
     "output_type": "execute_result"
    }
   ],
   "source": [
    "set(str1)"
   ]
  },
  {
   "cell_type": "code",
   "execution_count": 15,
   "id": "2f884b6d",
   "metadata": {},
   "outputs": [
    {
     "data": {
      "text/plain": [
       "13"
      ]
     },
     "execution_count": 15,
     "metadata": {},
     "output_type": "execute_result"
    }
   ],
   "source": [
    "len(set(str1))"
   ]
  },
  {
   "cell_type": "code",
   "execution_count": 16,
   "id": "1074627a",
   "metadata": {},
   "outputs": [],
   "source": [
    "vowels=set(\"aeiou\")\n",
    "word=set(\"Indrasena is the best\")"
   ]
  },
  {
   "cell_type": "code",
   "execution_count": 23,
   "id": "57b3b10f",
   "metadata": {},
   "outputs": [],
   "source": [
    "x=vowels.union(word) # This new variable is a combination of the objects in both sets (a union):\n",
    "#The “x” set consists of all the unique objects from both sets."
   ]
  },
  {
   "cell_type": "code",
   "execution_count": 24,
   "id": "2ee859b7",
   "metadata": {},
   "outputs": [
    {
     "name": "stdout",
     "output_type": "stream",
     "text": [
      "{'t', 'a', 'o', 'r', 'i', ' ', 'n', 's', 'd', 'e', 'h', 'u', 'I', 'b'}\n"
     ]
    }
   ],
   "source": [
    "print(x)"
   ]
  },
  {
   "cell_type": "code",
   "execution_count": 22,
   "id": "36962fc1",
   "metadata": {},
   "outputs": [
    {
     "name": "stdout",
     "output_type": "stream",
     "text": [
      "{'t', 'a', 'o', 'r', 'i', ' ', 'n', 's', 'd', 'e', 'h', 'u', 'I', 'b'}\n"
     ]
    }
   ],
   "source": [
    "print(x)"
   ]
  },
  {
   "cell_type": "code",
   "execution_count": 25,
   "id": "d589464c",
   "metadata": {},
   "outputs": [],
   "source": [
    "new_list=sorted(list(x))"
   ]
  },
  {
   "cell_type": "code",
   "execution_count": 26,
   "id": "029c974a",
   "metadata": {},
   "outputs": [
    {
     "data": {
      "text/plain": [
       "[' ', 'I', 'a', 'b', 'd', 'e', 'h', 'i', 'n', 'o', 'r', 's', 't', 'u']"
      ]
     },
     "execution_count": 26,
     "metadata": {},
     "output_type": "execute_result"
    }
   ],
   "source": [
    "new_list"
   ]
  },
  {
   "cell_type": "code",
   "execution_count": 30,
   "id": "d5596753",
   "metadata": {},
   "outputs": [],
   "source": [
    "diff=vowels.difference(word) # comapares both and removes common elements in vowles and returns only unique elements from the vowles set"
   ]
  },
  {
   "cell_type": "code",
   "execution_count": 31,
   "id": "69a83d88",
   "metadata": {},
   "outputs": [
    {
     "data": {
      "text/plain": [
       "{'o', 'u'}"
      ]
     },
     "execution_count": 31,
     "metadata": {},
     "output_type": "execute_result"
    }
   ],
   "source": [
    "diff # The “diff” set consists of all the objects in “vowels” that aren’t in “set(word)”."
   ]
  },
  {
   "cell_type": "code",
   "execution_count": 34,
   "id": "68c70085",
   "metadata": {},
   "outputs": [],
   "source": [
    "int_sec=vowels.intersection(word) # which gives the common elements present in both the sets"
   ]
  },
  {
   "cell_type": "code",
   "execution_count": 35,
   "id": "23163510",
   "metadata": {},
   "outputs": [
    {
     "data": {
      "text/plain": [
       "{'a', 'e', 'i'}"
      ]
     },
     "execution_count": 35,
     "metadata": {},
     "output_type": "execute_result"
    }
   ],
   "source": [
    "int_sec"
   ]
  },
  {
   "cell_type": "code",
   "execution_count": 36,
   "id": "19c4ffcf",
   "metadata": {},
   "outputs": [
    {
     "name": "stdout",
     "output_type": "stream",
     "text": [
      "Provide a word to search for vowels: indrsena\n",
      "i\n",
      "e\n",
      "a\n"
     ]
    }
   ],
   "source": [
    "\n",
    "vowels = ['a', 'e', 'i', 'o', 'u']\n",
    "word = input(\"Provide a word to search for vowels: \")\n",
    "found = []\n",
    "for letter in word:\n",
    "    if letter in vowels:\n",
    "        if letter not in found:\n",
    "            found.append(letter)\n",
    "for vowel in found:\n",
    " print(vowel)"
   ]
  },
  {
   "cell_type": "code",
   "execution_count": 37,
   "id": "bb9a3959",
   "metadata": {},
   "outputs": [],
   "source": [
    "# we can use single line by using sets and get the results instead of using five lines"
   ]
  },
  {
   "cell_type": "code",
   "execution_count": 38,
   "id": "558582f0",
   "metadata": {},
   "outputs": [
    {
     "name": "stdout",
     "output_type": "stream",
     "text": [
      "Provide a word to search for vowels: Maharaja is me only.\n",
      "e\n",
      "o\n",
      "a\n",
      "i\n"
     ]
    }
   ],
   "source": [
    "vowels = set(\"aeiou\")\n",
    "word = input(\"Provide a word to search for vowels: \")\n",
    "s1=set(word)\n",
    "found =vowels.intersection(s1) \n",
    "for vowel in found:\n",
    "    print(vowel)"
   ]
  },
  {
   "cell_type": "markdown",
   "id": "883a487e",
   "metadata": {},
   "source": [
    "# using the set was perfet choice here.\n",
    "Important observation\n",
    "But that’s not to say that the two other data structures don’t have their uses.\n",
    "For instance, if you need to perform, say, a frequency count, Python’s dictionary works best.\n",
    "However, if you are more concerned with maintaining insertion order, then only a list will do...which is almost true"
   ]
  },
  {
   "cell_type": "markdown",
   "id": "5c428a7b",
   "metadata": {},
   "source": [
    "# Storing a Table of Data\n",
    "As everything is an object, any of the built-in data structures can be stored in any \n",
    "other built-in data structure, enabling the construction of arbitrarily complex data \n",
    "structures...subject to your brain’s ability to actually visualize what’s going on. For \n",
    "instance, although a dictionary of lists containing tuples that contain sets of dictionaries"
   ]
  },
  {
   "cell_type": "markdown",
   "id": "468af2c8",
   "metadata": {},
   "source": [
    "# complex data structures\n",
    "## Nested dictionaries"
   ]
  },
  {
   "cell_type": "code",
   "execution_count": 41,
   "id": "5b3b69a4",
   "metadata": {},
   "outputs": [],
   "source": [
    "dict1={\"Phani\":{\"age\":58,\"class\":12,\"height\":180,\"salary\":50000000},\n",
    "       \"ram\":{\"age\":23,\"class\":5,\"height\":150,\"salary\":2000000},\n",
    "       \"raja\":{\"age\":34,\"class\":22,\"height\":200,\"salary\":100000}}"
   ]
  },
  {
   "cell_type": "code",
   "execution_count": 42,
   "id": "3a6ad419",
   "metadata": {},
   "outputs": [
    {
     "data": {
      "text/plain": [
       "{'age': 34, 'class': 22, 'height': 200, 'salary': 100000}"
      ]
     },
     "execution_count": 42,
     "metadata": {},
     "output_type": "execute_result"
    }
   ],
   "source": [
    "dict1[\"raja\"]"
   ]
  },
  {
   "cell_type": "code",
   "execution_count": 43,
   "id": "988b135c",
   "metadata": {},
   "outputs": [
    {
     "data": {
      "text/plain": [
       "34"
      ]
     },
     "execution_count": 43,
     "metadata": {},
     "output_type": "execute_result"
    }
   ],
   "source": [
    "dict1[\"raja\"][\"age\"]"
   ]
  },
  {
   "cell_type": "markdown",
   "id": "ca314799",
   "metadata": {},
   "source": [
    "1.Using double square brackets lets you access any data value from a table by \n",
    "identifying the row and column you are interested in. The row corresponds to a \n",
    "key used by the enclosing dictionary (people, in our example), while the column \n",
    "corresponds to any of the keys used by an embedded dictionary"
   ]
  },
  {
   "cell_type": "markdown",
   "id": "176dfb93",
   "metadata": {},
   "source": [
    "## pprint\n",
    "# The standard library includes a module called pprint that can take any data \n",
    "structure and display it in a easier-to-read format. The name pprint is a \n",
    "shorthand for “pretty print.”"
   ]
  },
  {
   "cell_type": "code",
   "execution_count": 47,
   "id": "8927a9f0",
   "metadata": {},
   "outputs": [
    {
     "data": {
      "text/plain": [
       "{'Phani': {'age': 58, 'class': 12, 'height': 180, 'salary': 50000000},\n",
       " 'ram': {'age': 23, 'class': 5, 'height': 150, 'salary': 2000000},\n",
       " 'raja': {'age': 34, 'class': 22, 'height': 200, 'salary': 100000}}"
      ]
     },
     "execution_count": 47,
     "metadata": {},
     "output_type": "execute_result"
    }
   ],
   "source": [
    "# Pretty printing complex data structures\n",
    "dict1={\"Phani\":{\"age\":58,\"class\":12,\"height\":180,\"salary\":50000000},\"ram\":{\"age\":23,\"class\":5,\"height\":150,\"salary\":2000000}, \"raja\":{\"age\":34,\"class\":22,\"height\":200,\"salary\":100000}}\n",
    "dict1"
   ]
  },
  {
   "cell_type": "code",
   "execution_count": 48,
   "id": "3ad6ae26",
   "metadata": {},
   "outputs": [
    {
     "name": "stdout",
     "output_type": "stream",
     "text": [
      "{'Phani': {'age': 58, 'class': 12, 'height': 180, 'salary': 50000000},\n",
      " 'raja': {'age': 34, 'class': 22, 'height': 200, 'salary': 100000},\n",
      " 'ram': {'age': 23, 'class': 5, 'height': 150, 'salary': 2000000}}\n"
     ]
    }
   ],
   "source": [
    "import pprint\n",
    "pprint.pprint(dict1)"
   ]
  },
  {
   "cell_type": "code",
   "execution_count": 51,
   "id": "d8ffb07b",
   "metadata": {},
   "outputs": [],
   "source": [
    "persons={'Ford': {'Occupation': 'Researcher', 'Gender': 'Male', \n",
    "'Home Planet': 'Betelgeuse Seven', 'Name': 'Ford Prefect'}, \n",
    "'Trillian': {'Occupation': 'Mathematician', 'Gender': \n",
    "'Female', 'Home Planet': 'Earth', 'Name': 'Tricia McMillan'}, 'Robot': {'Occupation': 'Paranoid Android', \n",
    "'Gender': 'Unknown', 'Home Planet': 'Unknown', 'Name': \n",
    "'Marvin'}, 'Arthur': {'Occupation': 'Sandwich-Maker', \n",
    "'Gender': 'Male', 'Home Planet': 'Earth', 'Name': 'Arthur Dent'}}"
   ]
  },
  {
   "cell_type": "code",
   "execution_count": 52,
   "id": "ede33e50",
   "metadata": {},
   "outputs": [
    {
     "data": {
      "text/plain": [
       "{'Ford': {'Occupation': 'Researcher',\n",
       "  'Gender': 'Male',\n",
       "  'Home Planet': 'Betelgeuse Seven',\n",
       "  'Name': 'Ford Prefect'},\n",
       " 'Trillian': {'Occupation': 'Mathematician',\n",
       "  'Gender': 'Female',\n",
       "  'Home Planet': 'Earth',\n",
       "  'Name': 'Tricia McMillan'},\n",
       " 'Robot': {'Occupation': 'Paranoid Android',\n",
       "  'Gender': 'Unknown',\n",
       "  'Home Planet': 'Unknown',\n",
       "  'Name': 'Marvin'},\n",
       " 'Arthur': {'Occupation': 'Sandwich-Maker',\n",
       "  'Gender': 'Male',\n",
       "  'Home Planet': 'Earth',\n",
       "  'Name': 'Arthur Dent'}}"
      ]
     },
     "execution_count": 52,
     "metadata": {},
     "output_type": "execute_result"
    }
   ],
   "source": [
    "persons\n"
   ]
  },
  {
   "cell_type": "code",
   "execution_count": 53,
   "id": "9d80e214",
   "metadata": {},
   "outputs": [
    {
     "name": "stdout",
     "output_type": "stream",
     "text": [
      "{'Arthur': {'Gender': 'Male',\n",
      "            'Home Planet': 'Earth',\n",
      "            'Name': 'Arthur Dent',\n",
      "            'Occupation': 'Sandwich-Maker'},\n",
      " 'Ford': {'Gender': 'Male',\n",
      "          'Home Planet': 'Betelgeuse Seven',\n",
      "          'Name': 'Ford Prefect',\n",
      "          'Occupation': 'Researcher'},\n",
      " 'Robot': {'Gender': 'Unknown',\n",
      "           'Home Planet': 'Unknown',\n",
      "           'Name': 'Marvin',\n",
      "           'Occupation': 'Paranoid Android'},\n",
      " 'Trillian': {'Gender': 'Female',\n",
      "              'Home Planet': 'Earth',\n",
      "              'Name': 'Tricia McMillan',\n",
      "              'Occupation': 'Mathematician'}}\n"
     ]
    }
   ],
   "source": [
    "pprint.pprint(persons) # here the data is prettily printed which means the data will look good "
   ]
  },
  {
   "cell_type": "markdown",
   "id": "d37a4a18",
   "metadata": {},
   "source": [
    "# Tuples "
   ]
  },
  {
   "cell_type": "code",
   "execution_count": 54,
   "id": "d1b6087c",
   "metadata": {},
   "outputs": [],
   "source": [
    "#Tuples are immutable: they cannot change once created and assigned.\n"
   ]
  },
  {
   "cell_type": "code",
   "execution_count": 55,
   "id": "39939423",
   "metadata": {},
   "outputs": [
    {
     "data": {
      "text/plain": [
       "'i'"
      ]
     },
     "execution_count": 55,
     "metadata": {},
     "output_type": "execute_result"
    }
   ],
   "source": [
    "vowels=(\"a\",\"e\",\"i\",'o',\"u\")\n",
    "vowels[2]"
   ]
  },
  {
   "cell_type": "code",
   "execution_count": 57,
   "id": "bbae7ee9",
   "metadata": {},
   "outputs": [
    {
     "ename": "TypeError",
     "evalue": "'tuple' object does not support item assignment",
     "output_type": "error",
     "traceback": [
      "\u001b[1;31m---------------------------------------------------------------------------\u001b[0m",
      "\u001b[1;31mTypeError\u001b[0m                                 Traceback (most recent call last)",
      "\u001b[1;32m~\\AppData\\Local\\Temp\\ipykernel_29740\\449246000.py\u001b[0m in \u001b[0;36m<module>\u001b[1;34m\u001b[0m\n\u001b[1;32m----> 1\u001b[1;33m \u001b[0mvowels\u001b[0m\u001b[1;33m[\u001b[0m\u001b[1;36m2\u001b[0m\u001b[1;33m]\u001b[0m\u001b[1;33m=\u001b[0m\u001b[1;34m\"g\"\u001b[0m \u001b[1;31m# tuples are immutable\u001b[0m\u001b[1;33m\u001b[0m\u001b[1;33m\u001b[0m\u001b[0m\n\u001b[0m",
      "\u001b[1;31mTypeError\u001b[0m: 'tuple' object does not support item assignment"
     ]
    }
   ],
   "source": [
    "vowels[2]=\"g\" # tuples are immutable"
   ]
  },
  {
   "cell_type": "markdown",
   "id": "9cf20eb9",
   "metadata": {},
   "source": [
    "1.y when you need to ensure that some data can’t change.\n",
    "2.The only way to ensure this is to put the data in a tuple, which then instructs the interpreter to stop any code from trying to \n",
    "change the tuple’s data."
   ]
  },
  {
   "cell_type": "markdown",
   "id": "b9da2d6a",
   "metadata": {},
   "source": [
    "# strings vs tuples\n",
    "1. in order for a tuple to be a tuple, every tuple needs to include at least one comma \n",
    "between the parentheses, even when the tuple contains a single object.\n",
    "This rule means that in order to assign a single object to a tuple (we’re assigning a \n",
    "string object in this instance), we need to include the trailing comma\n",
    "\n",
    "2. every tuple needs to include at least one comma between the parentheses\n"
   ]
  },
  {
   "cell_type": "code",
   "execution_count": 60,
   "id": "abe1e0c3",
   "metadata": {},
   "outputs": [],
   "source": [
    "str1=\"indra\"\n",
    "tup1=(\"indra\")"
   ]
  },
  {
   "cell_type": "code",
   "execution_count": 61,
   "id": "ec3981a8",
   "metadata": {},
   "outputs": [
    {
     "data": {
      "text/plain": [
       "str"
      ]
     },
     "execution_count": 61,
     "metadata": {},
     "output_type": "execute_result"
    }
   ],
   "source": [
    "type(str1)"
   ]
  },
  {
   "cell_type": "code",
   "execution_count": 63,
   "id": "5d2fdd80",
   "metadata": {},
   "outputs": [
    {
     "data": {
      "text/plain": [
       "str"
      ]
     },
     "execution_count": 63,
     "metadata": {},
     "output_type": "execute_result"
    }
   ],
   "source": [
    "type(tup1) # gives str since there is no one trailing comma at the end of tuple.atleast one comma should be present to be a tuple "
   ]
  },
  {
   "cell_type": "code",
   "execution_count": 66,
   "id": "2d5ecb8a",
   "metadata": {},
   "outputs": [
    {
     "data": {
      "text/plain": [
       "tuple"
      ]
     },
     "execution_count": 66,
     "metadata": {},
     "output_type": "execute_result"
    }
   ],
   "source": [
    "type((1,))"
   ]
  },
  {
   "cell_type": "code",
   "execution_count": null,
   "id": "deff6cfc",
   "metadata": {},
   "outputs": [],
   "source": []
  }
 ],
 "metadata": {
  "kernelspec": {
   "display_name": "Python 3 (ipykernel)",
   "language": "python",
   "name": "python3"
  },
  "language_info": {
   "codemirror_mode": {
    "name": "ipython",
    "version": 3
   },
   "file_extension": ".py",
   "mimetype": "text/x-python",
   "name": "python",
   "nbconvert_exporter": "python",
   "pygments_lexer": "ipython3",
   "version": "3.9.13"
  }
 },
 "nbformat": 4,
 "nbformat_minor": 5
}
