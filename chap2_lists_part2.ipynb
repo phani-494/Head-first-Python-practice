{
 "cells": [
  {
   "cell_type": "markdown",
   "id": "063a1c53",
   "metadata": {},
   "source": [
    "# lists part 2"
   ]
  },
  {
   "cell_type": "code",
   "execution_count": 2,
   "id": "1c96dc64",
   "metadata": {},
   "outputs": [],
   "source": [
    "l1=[1,2,3,4,5]"
   ]
  },
  {
   "cell_type": "code",
   "execution_count": 2,
   "id": "88f48524",
   "metadata": {},
   "outputs": [],
   "source": [
    "l2=[5,6,7,53,22]"
   ]
  },
  {
   "cell_type": "code",
   "execution_count": 3,
   "id": "a95dd573",
   "metadata": {},
   "outputs": [],
   "source": [
    "new_list=l1 # here we are referencing to the list .so changes made in the l1 or new_list will affect to the both"
   ]
  },
  {
   "cell_type": "code",
   "execution_count": 4,
   "id": "50588091",
   "metadata": {},
   "outputs": [],
   "source": [
    "# so we don't want this kind of changes in the list copied"
   ]
  },
  {
   "cell_type": "code",
   "execution_count": 5,
   "id": "12d9f1d1",
   "metadata": {},
   "outputs": [],
   "source": [
    "new_list.append(100)"
   ]
  },
  {
   "cell_type": "code",
   "execution_count": 6,
   "id": "f0b55c9e",
   "metadata": {},
   "outputs": [
    {
     "data": {
      "text/plain": [
       "[1, 2, 3, 4, 5, 100]"
      ]
     },
     "execution_count": 6,
     "metadata": {},
     "output_type": "execute_result"
    }
   ],
   "source": [
    "new_list"
   ]
  },
  {
   "cell_type": "code",
   "execution_count": 7,
   "id": "755f09dc",
   "metadata": {},
   "outputs": [
    {
     "data": {
      "text/plain": [
       "[1, 2, 3, 4, 5, 100]"
      ]
     },
     "execution_count": 7,
     "metadata": {},
     "output_type": "execute_result"
    }
   ],
   "source": [
    "l1"
   ]
  },
  {
   "cell_type": "code",
   "execution_count": 8,
   "id": "d03d789b",
   "metadata": {},
   "outputs": [],
   "source": [
    "#What’s happening is that a reference to the list is shared among  first and second. "
   ]
  },
  {
   "cell_type": "code",
   "execution_count": 9,
   "id": "9f7ba132",
   "metadata": {},
   "outputs": [],
   "source": [
    "# we will use the copy method which helps to solve this problem\n"
   ]
  },
  {
   "cell_type": "code",
   "execution_count": 16,
   "id": "fc65699e",
   "metadata": {},
   "outputs": [],
   "source": [
    "new_list2=l2.copy()  # copy the objects in the existing list"
   ]
  },
  {
   "cell_type": "code",
   "execution_count": 12,
   "id": "9b17bf83",
   "metadata": {},
   "outputs": [
    {
     "data": {
      "text/plain": [
       "[5, 6, 7, 53, 22]"
      ]
     },
     "execution_count": 12,
     "metadata": {},
     "output_type": "execute_result"
    }
   ],
   "source": [
    "new_list2"
   ]
  },
  {
   "cell_type": "code",
   "execution_count": 13,
   "id": "7849d2b2",
   "metadata": {},
   "outputs": [],
   "source": [
    "new_list2.append(99)"
   ]
  },
  {
   "cell_type": "code",
   "execution_count": 14,
   "id": "12497060",
   "metadata": {},
   "outputs": [
    {
     "data": {
      "text/plain": [
       "[5, 6, 7, 53, 22, 99]"
      ]
     },
     "execution_count": 14,
     "metadata": {},
     "output_type": "execute_result"
    }
   ],
   "source": [
    "new_list2"
   ]
  },
  {
   "cell_type": "code",
   "execution_count": 15,
   "id": "660886e8",
   "metadata": {},
   "outputs": [
    {
     "data": {
      "text/plain": [
       "[5, 6, 7, 53, 22]"
      ]
     },
     "execution_count": 15,
     "metadata": {},
     "output_type": "execute_result"
    }
   ],
   "source": [
    "l2 # no changes occured in l2 "
   ]
  },
  {
   "cell_type": "markdown",
   "id": "ff2d5f37",
   "metadata": {},
   "source": [
    "1.When used with lists, start, stop, and step are specified within the square brackets and \n",
    "are separated from one another by the colon (:) character: \n",
    "2.letters[start:stop:step]"
   ]
  },
  {
   "cell_type": "markdown",
   "id": "9af18190",
   "metadata": {},
   "source": [
    "# list slicing"
   ]
  },
  {
   "cell_type": "code",
   "execution_count": 17,
   "id": "5aa58ad2",
   "metadata": {},
   "outputs": [],
   "source": [
    "str1=\"Indrasena is a data scientist\""
   ]
  },
  {
   "cell_type": "code",
   "execution_count": 18,
   "id": "61cf4db3",
   "metadata": {},
   "outputs": [],
   "source": [
    "l1=list(str1)"
   ]
  },
  {
   "cell_type": "code",
   "execution_count": 19,
   "id": "13369e63",
   "metadata": {},
   "outputs": [
    {
     "data": {
      "text/plain": [
       "['I',\n",
       " 'n',\n",
       " 'd',\n",
       " 'r',\n",
       " 'a',\n",
       " 's',\n",
       " 'e',\n",
       " 'n',\n",
       " 'a',\n",
       " ' ',\n",
       " 'i',\n",
       " 's',\n",
       " ' ',\n",
       " 'a',\n",
       " ' ',\n",
       " 'd',\n",
       " 'a',\n",
       " 't',\n",
       " 'a',\n",
       " ' ',\n",
       " 's',\n",
       " 'c',\n",
       " 'i',\n",
       " 'e',\n",
       " 'n',\n",
       " 't',\n",
       " 'i',\n",
       " 's',\n",
       " 't']"
      ]
     },
     "execution_count": 19,
     "metadata": {},
     "output_type": "execute_result"
    }
   ],
   "source": [
    "l1"
   ]
  },
  {
   "cell_type": "code",
   "execution_count": 20,
   "id": "0fe91b37",
   "metadata": {},
   "outputs": [
    {
     "data": {
      "text/plain": [
       "['I', 'n', 'd', 'r', 'a', 's', 'e', 'n', 'a', ' ']"
      ]
     },
     "execution_count": 20,
     "metadata": {},
     "output_type": "execute_result"
    }
   ],
   "source": [
    "l1[0:10]"
   ]
  },
  {
   "cell_type": "code",
   "execution_count": 21,
   "id": "364604e2",
   "metadata": {},
   "outputs": [
    {
     "data": {
      "text/plain": [
       "['I', 'd', 'a', 'e', 'a']"
      ]
     },
     "execution_count": 21,
     "metadata": {},
     "output_type": "execute_result"
    }
   ],
   "source": [
    "l1[0:10:2] # gives every second  table letters simply indexes at the 2,4,6,8\n",
    "# skips one letter at a time and gives next letter\n",
    "# takes two strides at a time ex--> 1,2 and prints 2\n",
    "# "
   ]
  },
  {
   "cell_type": "code",
   "execution_count": 3,
   "id": "806765ef",
   "metadata": {},
   "outputs": [
    {
     "data": {
      "text/plain": [
       "[2, 5]"
      ]
     },
     "execution_count": 3,
     "metadata": {},
     "output_type": "execute_result"
    }
   ],
   "source": [
    "l1[1:11:3] # starts at index 1 then skips two values and prints third one"
   ]
  },
  {
   "cell_type": "code",
   "execution_count": 5,
   "id": "be1d3cbf",
   "metadata": {},
   "outputs": [],
   "source": [
    "title=\"Phanindra is a Data Scientist\""
   ]
  },
  {
   "cell_type": "code",
   "execution_count": 6,
   "id": "5efe974a",
   "metadata": {},
   "outputs": [
    {
     "data": {
      "text/plain": [
       "'Phanindra '"
      ]
     },
     "execution_count": 6,
     "metadata": {},
     "output_type": "execute_result"
    }
   ],
   "source": [
    "title[0:10]"
   ]
  },
  {
   "cell_type": "code",
   "execution_count": 15,
   "id": "a6de4a07",
   "metadata": {},
   "outputs": [],
   "source": [
    "title_list=list(title)"
   ]
  },
  {
   "cell_type": "code",
   "execution_count": 8,
   "id": "83b01ce3",
   "metadata": {},
   "outputs": [
    {
     "data": {
      "text/plain": [
       "['P',\n",
       " 'h',\n",
       " 'a',\n",
       " 'n',\n",
       " 'i',\n",
       " 'n',\n",
       " 'd',\n",
       " 'r',\n",
       " 'a',\n",
       " ' ',\n",
       " 'i',\n",
       " 's',\n",
       " ' ',\n",
       " 'a',\n",
       " ' ',\n",
       " 'D',\n",
       " 'a',\n",
       " 't',\n",
       " 'a',\n",
       " ' ',\n",
       " 'S',\n",
       " 'c',\n",
       " 'i',\n",
       " 'e',\n",
       " 'n',\n",
       " 't',\n",
       " 'i',\n",
       " 's',\n",
       " 't']"
      ]
     },
     "execution_count": 8,
     "metadata": {},
     "output_type": "execute_result"
    }
   ],
   "source": [
    "title_list"
   ]
  },
  {
   "cell_type": "markdown",
   "id": "4273aa83",
   "metadata": {},
   "source": [
    "## *****"
   ]
  },
  {
   "cell_type": "code",
   "execution_count": 10,
   "id": "f4a956a2",
   "metadata": {},
   "outputs": [
    {
     "data": {
      "text/plain": [
       "['P', 'h', 'a', 'n']"
      ]
     },
     "execution_count": 10,
     "metadata": {},
     "output_type": "execute_result"
    }
   ],
   "source": [
    "title_list[0:4] # select the first three objects from the list"
   ]
  },
  {
   "cell_type": "code",
   "execution_count": 11,
   "id": "6f8868ad",
   "metadata": {},
   "outputs": [
    {
     "data": {
      "text/plain": [
       "'Phani'"
      ]
     },
     "execution_count": 11,
     "metadata": {},
     "output_type": "execute_result"
    }
   ],
   "source": [
    "''.join(title_list[0:5]) # turn the selected range into a list"
   ]
  },
  {
   "cell_type": "code",
   "execution_count": 18,
   "id": "9a1d65a0",
   "metadata": {},
   "outputs": [
    {
     "data": {
      "text/plain": [
       "'Phanindra is a Data Scientist'"
      ]
     },
     "execution_count": 18,
     "metadata": {},
     "output_type": "execute_result"
    }
   ],
   "source": [
    "''.join(title_list) # join function converts list of characters into a string"
   ]
  },
  {
   "cell_type": "code",
   "execution_count": 21,
   "id": "2fb22150",
   "metadata": {},
   "outputs": [
    {
     "data": {
      "text/plain": [
       "'Scientist'"
      ]
     },
     "execution_count": 21,
     "metadata": {},
     "output_type": "execute_result"
    }
   ],
   "source": [
    "title[-9:] # start from -9 and go to end"
   ]
  },
  {
   "cell_type": "code",
   "execution_count": 23,
   "id": "515b6fe5",
   "metadata": {},
   "outputs": [
    {
     "data": {
      "text/plain": [
       "' si'"
      ]
     },
     "execution_count": 23,
     "metadata": {},
     "output_type": "execute_result"
    }
   ],
   "source": [
    "title[12:9:-1] # here -1 is there which means takes backward stride which means first value should be greater here "
   ]
  },
  {
   "cell_type": "code",
   "execution_count": 24,
   "id": "80e69882",
   "metadata": {},
   "outputs": [
    {
     "data": {
      "text/plain": [
       "'tsitneicS ataD a si ardninahP'"
      ]
     },
     "execution_count": 24,
     "metadata": {},
     "output_type": "execute_result"
    }
   ],
   "source": [
    "title[::-1] # which means here start value is 29 and end value is 0 \n",
    "# since -1 is there interpreter treats as like above values"
   ]
  },
  {
   "cell_type": "code",
   "execution_count": 25,
   "id": "a22ee95d",
   "metadata": {},
   "outputs": [
    {
     "data": {
      "text/plain": [
       "29"
      ]
     },
     "execution_count": 25,
     "metadata": {},
     "output_type": "execute_result"
    }
   ],
   "source": [
    "len(title)"
   ]
  },
  {
   "cell_type": "code",
   "execution_count": 26,
   "id": "989b6e8f",
   "metadata": {},
   "outputs": [
    {
     "data": {
      "text/plain": [
       "''"
      ]
     },
     "execution_count": 26,
     "metadata": {},
     "output_type": "execute_result"
    }
   ],
   "source": [
    "title[0:29:-1]"
   ]
  },
  {
   "cell_type": "code",
   "execution_count": 27,
   "id": "9899785b",
   "metadata": {},
   "outputs": [
    {
     "data": {
      "text/plain": [
       "'tsitneicS ataD a si ardninah'"
      ]
     },
     "execution_count": 27,
     "metadata": {},
     "output_type": "execute_result"
    }
   ],
   "source": [
    "title[29:0:-1]"
   ]
  },
  {
   "cell_type": "code",
   "execution_count": 28,
   "id": "997855f9",
   "metadata": {},
   "outputs": [
    {
     "data": {
      "text/plain": [
       "' Scient'"
      ]
     },
     "execution_count": 28,
     "metadata": {},
     "output_type": "execute_result"
    }
   ],
   "source": [
    "title[-10:-3:1]"
   ]
  },
  {
   "cell_type": "code",
   "execution_count": 37,
   "id": "45a0a7c9",
   "metadata": {},
   "outputs": [
    {
     "data": {
      "text/plain": [
       "'tneicS '"
      ]
     },
     "execution_count": 37,
     "metadata": {},
     "output_type": "execute_result"
    }
   ],
   "source": [
    "title[-4:-11:-1]"
   ]
  },
  {
   "cell_type": "code",
   "execution_count": 31,
   "id": "31c7a048",
   "metadata": {},
   "outputs": [
    {
     "data": {
      "text/plain": [
       "' Scientist'"
      ]
     },
     "execution_count": 31,
     "metadata": {},
     "output_type": "execute_result"
    }
   ],
   "source": [
    "''.join(title_list[-10:])"
   ]
  },
  {
   "cell_type": "code",
   "execution_count": 33,
   "id": "d7e091cc",
   "metadata": {},
   "outputs": [
    {
     "data": {
      "text/plain": [
       "'P&h&a&n&i&n&d&r&a& &i&s& &a& &D&a&t&a& &S&c&i&e&n&t&i&s&t'"
      ]
     },
     "execution_count": 33,
     "metadata": {},
     "output_type": "execute_result"
    }
   ],
   "source": [
    "'&'.join(title_list)"
   ]
  },
  {
   "cell_type": "code",
   "execution_count": 34,
   "id": "3874d8c4",
   "metadata": {},
   "outputs": [
    {
     "data": {
      "text/plain": [
       "['P',\n",
       " 'h',\n",
       " 'a',\n",
       " 'n',\n",
       " 'i',\n",
       " 'n',\n",
       " 'd',\n",
       " 'r',\n",
       " 'a',\n",
       " ' ',\n",
       " 'i',\n",
       " 's',\n",
       " ' ',\n",
       " 'a',\n",
       " ' ',\n",
       " 'D',\n",
       " 'a',\n",
       " 't',\n",
       " 'a',\n",
       " ' ',\n",
       " 'S',\n",
       " 'c',\n",
       " 'i',\n",
       " 'e',\n",
       " 'n',\n",
       " 't',\n",
       " 'i',\n",
       " 's',\n",
       " 't']"
      ]
     },
     "execution_count": 34,
     "metadata": {},
     "output_type": "execute_result"
    }
   ],
   "source": [
    "title_list"
   ]
  },
  {
   "cell_type": "code",
   "execution_count": 38,
   "id": "a280083f",
   "metadata": {},
   "outputs": [],
   "source": [
    "# convert \"Don't panic\" to \"on tap\""
   ]
  },
  {
   "cell_type": "code",
   "execution_count": 46,
   "id": "70aacd51",
   "metadata": {},
   "outputs": [],
   "source": [
    "str=\"Don't panic!\""
   ]
  },
  {
   "cell_type": "code",
   "execution_count": 47,
   "id": "7237e9e1",
   "metadata": {},
   "outputs": [],
   "source": [
    "list1=list(str)"
   ]
  },
  {
   "cell_type": "code",
   "execution_count": 48,
   "id": "9c126f2c",
   "metadata": {},
   "outputs": [
    {
     "data": {
      "text/plain": [
       "['D', 'o', 'n', \"'\", 't', ' ', 'p', 'a', 'n', 'i', 'c', '!']"
      ]
     },
     "execution_count": 48,
     "metadata": {},
     "output_type": "execute_result"
    }
   ],
   "source": [
    "list1"
   ]
  },
  {
   "cell_type": "code",
   "execution_count": 49,
   "id": "53c26c58",
   "metadata": {},
   "outputs": [],
   "source": [
    "for i  in range(4):\n",
    "    list1.pop()"
   ]
  },
  {
   "cell_type": "code",
   "execution_count": 50,
   "id": "5b3be01c",
   "metadata": {},
   "outputs": [
    {
     "data": {
      "text/plain": [
       "['D', 'o', 'n', \"'\", 't', ' ', 'p', 'a']"
      ]
     },
     "execution_count": 50,
     "metadata": {},
     "output_type": "execute_result"
    }
   ],
   "source": [
    "list1"
   ]
  },
  {
   "cell_type": "code",
   "execution_count": 51,
   "id": "b0bd4daf",
   "metadata": {},
   "outputs": [
    {
     "data": {
      "text/plain": [
       "'D'"
      ]
     },
     "execution_count": 51,
     "metadata": {},
     "output_type": "execute_result"
    }
   ],
   "source": [
    "list1.pop(0)"
   ]
  },
  {
   "cell_type": "code",
   "execution_count": 52,
   "id": "89f1ddb4",
   "metadata": {},
   "outputs": [],
   "source": [
    "list1.remove(\"'\")"
   ]
  },
  {
   "cell_type": "code",
   "execution_count": 53,
   "id": "11b0d022",
   "metadata": {},
   "outputs": [
    {
     "data": {
      "text/plain": [
       "['o', 'n', 't', ' ', 'p', 'a']"
      ]
     },
     "execution_count": 53,
     "metadata": {},
     "output_type": "execute_result"
    }
   ],
   "source": [
    "list1"
   ]
  },
  {
   "cell_type": "code",
   "execution_count": 54,
   "id": "fed52209",
   "metadata": {},
   "outputs": [],
   "source": [
    "list1.extend([list1.pop(),list1.pop()]) # last 2 values are reversed simply here"
   ]
  },
  {
   "cell_type": "code",
   "execution_count": 55,
   "id": "643777fd",
   "metadata": {},
   "outputs": [
    {
     "data": {
      "text/plain": [
       "['o', 'n', 't', ' ', 'a', 'p']"
      ]
     },
     "execution_count": 55,
     "metadata": {},
     "output_type": "execute_result"
    }
   ],
   "source": [
    "list1"
   ]
  },
  {
   "cell_type": "code",
   "execution_count": 56,
   "id": "aa567492",
   "metadata": {},
   "outputs": [],
   "source": [
    "list1.insert(2,list1.pop(3))"
   ]
  },
  {
   "cell_type": "code",
   "execution_count": 57,
   "id": "deb291a5",
   "metadata": {},
   "outputs": [
    {
     "data": {
      "text/plain": [
       "['o', 'n', ' ', 't', 'a', 'p']"
      ]
     },
     "execution_count": 57,
     "metadata": {},
     "output_type": "execute_result"
    }
   ],
   "source": [
    "list1"
   ]
  },
  {
   "cell_type": "code",
   "execution_count": 58,
   "id": "12712eb5",
   "metadata": {},
   "outputs": [],
   "source": [
    "list2=''.join(list1)"
   ]
  },
  {
   "cell_type": "code",
   "execution_count": 59,
   "id": "2cc9ca0f",
   "metadata": {},
   "outputs": [
    {
     "data": {
      "text/plain": [
       "'on tap'"
      ]
     },
     "execution_count": 59,
     "metadata": {},
     "output_type": "execute_result"
    }
   ],
   "source": [
    "list2"
   ]
  },
  {
   "cell_type": "code",
   "execution_count": 60,
   "id": "fa26880c",
   "metadata": {},
   "outputs": [],
   "source": [
    "# using the square bracket notations"
   ]
  },
  {
   "cell_type": "code",
   "execution_count": 61,
   "id": "652e3dcf",
   "metadata": {},
   "outputs": [],
   "source": [
    "str=\"Don't panic!\""
   ]
  },
  {
   "cell_type": "code",
   "execution_count": 63,
   "id": "dc78b343",
   "metadata": {},
   "outputs": [
    {
     "data": {
      "text/plain": [
       "'on tap'"
      ]
     },
     "execution_count": 63,
     "metadata": {},
     "output_type": "execute_result"
    }
   ],
   "source": [
    "str[1:3]+str[5]+str[4]+str[7:5:-1]"
   ]
  },
  {
   "cell_type": "markdown",
   "id": "dd6640ac",
   "metadata": {},
   "source": [
    "1.here we used the two methods\n",
    "2.slicing the list method\n",
    "3.using the list methods such as pop,insert\n",
    " \n",
    " # slicing is non destructive which means original list will not be altered\n",
    " ## where as the list methods are destructive which will change the original list itself\n"
   ]
  },
  {
   "cell_type": "code",
   "execution_count": 64,
   "id": "7e28e5fb",
   "metadata": {},
   "outputs": [
    {
     "name": "stdout",
     "output_type": "stream",
     "text": [
      "P\n",
      "h\n",
      "a\n",
      "n\n",
      "i\n",
      "n\n",
      "d\n",
      "r\n",
      "a\n",
      " \n",
      "i\n",
      "s\n",
      " \n",
      "a\n",
      " \n",
      "D\n",
      "a\n",
      "t\n",
      "a\n",
      " \n",
      "S\n",
      "c\n",
      "i\n",
      "e\n",
      "n\n",
      "t\n",
      "i\n",
      "s\n",
      "t\n"
     ]
    }
   ],
   "source": [
    "for i in title_list:\n",
    "    print(i)"
   ]
  },
  {
   "cell_type": "code",
   "execution_count": 65,
   "id": "93b2ef78",
   "metadata": {},
   "outputs": [
    {
     "name": "stdout",
     "output_type": "stream",
     "text": [
      "n\n",
      "i\n",
      "n\n",
      "d\n",
      "r\n",
      "a\n",
      " \n"
     ]
    }
   ],
   "source": [
    "for i in title_list[3:10]: # to print only from 3 to 10\n",
    "    print(i)"
   ]
  },
  {
   "cell_type": "code",
   "execution_count": null,
   "id": "4df79cb1",
   "metadata": {},
   "outputs": [],
   "source": [
    " # ''.join(list_name) -->This line takes the list and turns it back into a string."
   ]
  }
 ],
 "metadata": {
  "kernelspec": {
   "display_name": "Python 3 (ipykernel)",
   "language": "python",
   "name": "python3"
  },
  "language_info": {
   "codemirror_mode": {
    "name": "ipython",
    "version": 3
   },
   "file_extension": ".py",
   "mimetype": "text/x-python",
   "name": "python",
   "nbconvert_exporter": "python",
   "pygments_lexer": "ipython3",
   "version": "3.9.13"
  }
 },
 "nbformat": 4,
 "nbformat_minor": 5
}
