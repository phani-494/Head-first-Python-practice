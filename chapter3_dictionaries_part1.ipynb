{
 "cells": [
  {
   "cell_type": "markdown",
   "id": "3e7c3b3e",
   "metadata": {},
   "source": [
    "# Dictionaries"
   ]
  },
  {
   "cell_type": "markdown",
   "id": "4ab2d0eb",
   "metadata": {},
   "source": [
    "#When you have truly structured data (and using a list to store it may not be the best choice).\n",
    "\n",
    " 1.Python comes to your rescue with its built-in dictionary\n",
    " \n",
    " 2.the dictionary is used to hold a collection of key/value pairs, where each unique key has a value associated with it\n",
    " \n",
    " 3.The key part of a Python dictionary is typically a string, whereas the associated value part can be any Python object. "
   ]
  },
  {
   "cell_type": "code",
   "execution_count": 14,
   "id": "852fd047",
   "metadata": {},
   "outputs": [],
   "source": [
    "# let's create a dictionary\n",
    "# Insertion order is not maintained in the dictionary"
   ]
  },
  {
   "cell_type": "code",
   "execution_count": 10,
   "id": "ac8b6f5b",
   "metadata": {},
   "outputs": [],
   "source": [
    "person = { 'Name': 'Indrasena',\n",
    " 'Gender': 'Male',\n",
    " 'Profile': 'Data scientist',\n",
    " 'Home': 'Kadapa',\n",
    " 'Age':55,\"Height\":87 }"
   ]
  },
  {
   "cell_type": "code",
   "execution_count": 12,
   "id": "56c60d76",
   "metadata": {},
   "outputs": [
    {
     "data": {
      "text/plain": [
       "{'Name': 'Indrasena',\n",
       " 'Gender': 'Male',\n",
       " 'Profile': 'Data scientist',\n",
       " 'Home': 'Kadapa',\n",
       " 'age': 55,\n",
       " 'height': 87}"
      ]
     },
     "execution_count": 12,
     "metadata": {},
     "output_type": "execute_result"
    }
   ],
   "source": [
    "person # in dictionaries the ordering also changes . every time u run it ,the interpreter gives the result in random manner"
   ]
  },
  {
   "cell_type": "code",
   "execution_count": 9,
   "id": "ece455cc",
   "metadata": {},
   "outputs": [
    {
     "data": {
      "text/plain": [
       "'Indrasena'"
      ]
     },
     "execution_count": 9,
     "metadata": {},
     "output_type": "execute_result"
    }
   ],
   "source": [
    "person['Name']"
   ]
  },
  {
   "cell_type": "code",
   "execution_count": 7,
   "id": "0f6be3c9",
   "metadata": {},
   "outputs": [],
   "source": [
    "# always try to align your dictionary code as shown above so that it is easy to read them"
   ]
  },
  {
   "cell_type": "markdown",
   "id": "87d4fd09",
   "metadata": {},
   "source": [
    " 1. In lists we need indexes to look up a value . so ordering is must in lists\n",
    " \n",
    " 2. But in dictionaries ,no need of indexes since we use the key to look up a value.so ordering is not necessary in the dictionary"
   ]
  },
  {
   "cell_type": "markdown",
   "id": "947c732e",
   "metadata": {},
   "source": [
    "Unlike lists, which keep your objects arranged in the order in which you inserted them, Python’s dictionary does not.\n",
    "This means you cannot assume that the rows in any dictionary are in any particular order; for all intents and purposes, they are unordered. "
   ]
  },
  {
   "cell_type": "code",
   "execution_count": 15,
   "id": "a6d5b9b5",
   "metadata": {},
   "outputs": [],
   "source": [
    "#When you select data stored in a dictionary, it has nothing to do with the dictionary’s order, and everything to \n",
    "#do with the key you used. Remember: a key is used to look up a value."
   ]
  },
  {
   "cell_type": "markdown",
   "id": "42417817",
   "metadata": {},
   "source": [
    "#Accessing a dictionary\n"
   ]
  },
  {
   "cell_type": "code",
   "execution_count": 17,
   "id": "c3730f12",
   "metadata": {},
   "outputs": [],
   "source": [
    "# we use [keys] to access data in the dictionary"
   ]
  },
  {
   "cell_type": "code",
   "execution_count": 18,
   "id": "ae39c8f6",
   "metadata": {},
   "outputs": [],
   "source": [
    "# lists, which use numeric index values to access data, dictionaries use keys to access their associated data values."
   ]
  },
  {
   "cell_type": "code",
   "execution_count": 19,
   "id": "88512874",
   "metadata": {},
   "outputs": [
    {
     "data": {
      "text/plain": [
       "55"
      ]
     },
     "execution_count": 19,
     "metadata": {},
     "output_type": "execute_result"
    }
   ],
   "source": [
    "person['age']"
   ]
  },
  {
   "cell_type": "markdown",
   "id": "25446af9",
   "metadata": {},
   "source": [
    "# Add a new key-value pair to dictionary"
   ]
  },
  {
   "cell_type": "code",
   "execution_count": 22,
   "id": "c1af85fc",
   "metadata": {},
   "outputs": [],
   "source": [
    "person['Btech']='ECE' # adds the given key-value to dictionary"
   ]
  },
  {
   "cell_type": "code",
   "execution_count": 23,
   "id": "368a627b",
   "metadata": {},
   "outputs": [
    {
     "data": {
      "text/plain": [
       "{'Name': 'Indrasena',\n",
       " 'Gender': 'Male',\n",
       " 'Profile': 'Data scientist',\n",
       " 'Home': 'Kadapa',\n",
       " 'age': 55,\n",
       " 'height': 87,\n",
       " 'Btech': 'ECE'}"
      ]
     },
     "execution_count": 23,
     "metadata": {},
     "output_type": "execute_result"
    }
   ],
   "source": [
    "person"
   ]
  },
  {
   "cell_type": "code",
   "execution_count": 25,
   "id": "e7f59f8e",
   "metadata": {},
   "outputs": [
    {
     "ename": "KeyError",
     "evalue": "0",
     "output_type": "error",
     "traceback": [
      "\u001b[1;31m---------------------------------------------------------------------------\u001b[0m",
      "\u001b[1;31mKeyError\u001b[0m                                  Traceback (most recent call last)",
      "\u001b[1;32m~\\AppData\\Local\\Temp\\ipykernel_14668\\1334278615.py\u001b[0m in \u001b[0;36m<module>\u001b[1;34m\u001b[0m\n\u001b[1;32m----> 1\u001b[1;33m \u001b[0mperson\u001b[0m\u001b[1;33m[\u001b[0m\u001b[1;36m0\u001b[0m\u001b[1;33m]\u001b[0m \u001b[1;31m# no indexing in dictionary\u001b[0m\u001b[1;33m\u001b[0m\u001b[1;33m\u001b[0m\u001b[0m\n\u001b[0m",
      "\u001b[1;31mKeyError\u001b[0m: 0"
     ]
    }
   ],
   "source": [
    "person[0] # no indexing in dictionary"
   ]
  },
  {
   "cell_type": "code",
   "execution_count": 39,
   "id": "1b850e09",
   "metadata": {},
   "outputs": [
    {
     "name": "stdout",
     "output_type": "stream",
     "text": [
      "{'a': 5, 'e': 2, 'i': 4, 'o': 0, 'u': 0}\n"
     ]
    }
   ],
   "source": [
    "vowels=['a','e','i','o','u']\n",
    "dict1={'a':0,'e':0,\"i\":0,'o':0,\"u\":0}\n",
    "str1=\"Phanindra Reddy is a Data scientist\"\n",
    "for i in str1:\n",
    "    if i in vowels:\n",
    "        if i  in dict1.keys():\n",
    "            dict1[i]=dict1[i]+1\n",
    "print(dict1)\n"
   ]
  },
  {
   "cell_type": "code",
   "execution_count": null,
   "id": "844c07b5",
   "metadata": {},
   "outputs": [],
   "source": []
  },
  {
   "cell_type": "code",
   "execution_count": 3,
   "id": "0a8db784",
   "metadata": {},
   "outputs": [],
   "source": [
    "d1={1:\"One\",2:\"Two\",3:\"Three\",4:\"Four\",5:\"Five\",6:\"six\"}"
   ]
  },
  {
   "cell_type": "code",
   "execution_count": 4,
   "id": "e0ac2ea0",
   "metadata": {},
   "outputs": [
    {
     "name": "stdout",
     "output_type": "stream",
     "text": [
      "1\n",
      "2\n",
      "3\n",
      "4\n",
      "5\n",
      "6\n"
     ]
    }
   ],
   "source": [
    "for i in d1: # gives only keys in the output\n",
    "    print(i)"
   ]
  },
  {
   "cell_type": "markdown",
   "id": "38e05541",
   "metadata": {},
   "source": [
    "# When you iterated over a dictionary with your for loop, the interpreter only processed the dictionary’s keys. \n",
    "To access the associated data values, you need to put each key within square \n",
    "brackets and use it together with the dictionary name to gain access to the \n",
    "values associated with the key."
   ]
  },
  {
   "cell_type": "code",
   "execution_count": 7,
   "id": "6d18b9cf",
   "metadata": {},
   "outputs": [
    {
     "name": "stdout",
     "output_type": "stream",
     "text": [
      "1 : One\n",
      "2 : Two\n",
      "3 : Three\n",
      "4 : Four\n",
      "5 : Five\n",
      "6 : six\n"
     ]
    }
   ],
   "source": [
    "for i in d1:\n",
    "    print(i,\":\",d1[i])"
   ]
  },
  {
   "cell_type": "code",
   "execution_count": 11,
   "id": "348fdcc7",
   "metadata": {},
   "outputs": [
    {
     "name": "stdout",
     "output_type": "stream",
     "text": [
      "Age 55\n",
      "Gender Male\n",
      "Height 87\n",
      "Home Kadapa\n",
      "Name Indrasena\n",
      "Profile Data scientist\n"
     ]
    }
   ],
   "source": [
    "for i in sorted(person):\n",
    "    print(i,person[i])"
   ]
  },
  {
   "cell_type": "code",
   "execution_count": 12,
   "id": "9a846ef3",
   "metadata": {},
   "outputs": [
    {
     "name": "stdout",
     "output_type": "stream",
     "text": [
      "Age\n",
      "Gender\n",
      "Height\n",
      "Home\n",
      "Name\n",
      "Profile\n"
     ]
    }
   ],
   "source": [
    "for i in sorted(person.keys()): # if we apply sort function then all keys or values must be of same data type\n",
    "    # since sorting cannot be performed between different data types.\n",
    "    print(i)"
   ]
  },
  {
   "cell_type": "code",
   "execution_count": 13,
   "id": "06829979",
   "metadata": {},
   "outputs": [
    {
     "name": "stdout",
     "output_type": "stream",
     "text": [
      "Indrasena\n",
      "Male\n",
      "Data scientist\n",
      "Kadapa\n",
      "55\n",
      "87\n"
     ]
    }
   ],
   "source": [
    "for i in person.values():\n",
    "    print(i)"
   ]
  },
  {
   "cell_type": "code",
   "execution_count": 16,
   "id": "94d0fce7",
   "metadata": {},
   "outputs": [
    {
     "name": "stdout",
     "output_type": "stream",
     "text": [
      "Indrasena\n",
      "Male\n",
      "Data scientist\n",
      "Kadapa\n",
      "55\n",
      "87\n"
     ]
    }
   ],
   "source": [
    "for i in (person.values()):\n",
    "    print(i)"
   ]
  },
  {
   "cell_type": "code",
   "execution_count": 17,
   "id": "34063950",
   "metadata": {},
   "outputs": [
    {
     "name": "stdout",
     "output_type": "stream",
     "text": [
      "Name Indrasena\n",
      "Gender Male\n",
      "Profile Data scientist\n",
      "Home Kadapa\n",
      "Age 55\n",
      "Height 87\n"
     ]
    }
   ],
   "source": [
    "for k,v in person.items():\n",
    "    print(k,v)"
   ]
  },
  {
   "cell_type": "code",
   "execution_count": 18,
   "id": "f4d8645c",
   "metadata": {},
   "outputs": [
    {
     "name": "stdout",
     "output_type": "stream",
     "text": [
      "Age 55\n",
      "Gender Male\n",
      "Height 87\n",
      "Home Kadapa\n",
      "Name Indrasena\n",
      "Profile Data scientist\n"
     ]
    }
   ],
   "source": [
    "for k,v in sorted(person.items()):\n",
    "    print(k,v)"
   ]
  },
  {
   "cell_type": "code",
   "execution_count": 21,
   "id": "a5cfc11a",
   "metadata": {},
   "outputs": [
    {
     "name": "stdout",
     "output_type": "stream",
     "text": [
      "u presents 0 times\n",
      "o presents 0 times\n",
      "i presents 4 times\n",
      "e presents 2 times\n",
      "a presents 5 times\n"
     ]
    }
   ],
   "source": [
    "vowels=['a','e','i','o','u']\n",
    "dict1={'a':0,'e':0,\"i\":0,'o':0,\"u\":0}\n",
    "str1=\"Phanindra Reddy is a Data scientist\"\n",
    "for i in str1:\n",
    "    if i in vowels:\n",
    "        if i  in dict1.keys():\n",
    "            dict1[i]=dict1[i]+1\n",
    "for k,v in sorted(dict1.items(),reverse=True): # put reverse=True to print in  the descending order\n",
    "    print(k,\"presents\",v,\"times\")"
   ]
  },
  {
   "cell_type": "code",
   "execution_count": 31,
   "id": "e1e6a00f",
   "metadata": {},
   "outputs": [
    {
     "ename": "KeyError",
     "evalue": "'a'",
     "output_type": "error",
     "traceback": [
      "\u001b[1;31m---------------------------------------------------------------------------\u001b[0m",
      "\u001b[1;31mKeyError\u001b[0m                                  Traceback (most recent call last)",
      "\u001b[1;32m~\\AppData\\Local\\Temp\\ipykernel_65256\\3669908386.py\u001b[0m in \u001b[0;36m<module>\u001b[1;34m\u001b[0m\n\u001b[0;32m      4\u001b[0m \u001b[1;32mfor\u001b[0m \u001b[0mi\u001b[0m \u001b[1;32min\u001b[0m \u001b[0mstr1\u001b[0m\u001b[1;33m:\u001b[0m\u001b[1;33m\u001b[0m\u001b[1;33m\u001b[0m\u001b[0m\n\u001b[0;32m      5\u001b[0m     \u001b[1;32mif\u001b[0m \u001b[0mi\u001b[0m \u001b[1;32min\u001b[0m \u001b[0mvowels\u001b[0m\u001b[1;33m:\u001b[0m\u001b[1;33m\u001b[0m\u001b[1;33m\u001b[0m\u001b[0m\n\u001b[1;32m----> 6\u001b[1;33m         \u001b[0mdict1\u001b[0m\u001b[1;33m[\u001b[0m\u001b[0mi\u001b[0m\u001b[1;33m]\u001b[0m\u001b[1;33m=\u001b[0m\u001b[0mdict1\u001b[0m\u001b[1;33m[\u001b[0m\u001b[0mi\u001b[0m\u001b[1;33m]\u001b[0m\u001b[1;33m+\u001b[0m\u001b[1;36m1\u001b[0m\u001b[1;33m\u001b[0m\u001b[1;33m\u001b[0m\u001b[0m\n\u001b[0m\u001b[0;32m      7\u001b[0m \u001b[0mprint\u001b[0m\u001b[1;33m(\u001b[0m\u001b[0mdict1\u001b[0m\u001b[1;33m)\u001b[0m\u001b[1;33m\u001b[0m\u001b[1;33m\u001b[0m\u001b[0m\n\u001b[0;32m      8\u001b[0m \u001b[1;31m#for k,v in sorted(dict1.items(),reverse=True): # put reverse=True to print in  the descending order\u001b[0m\u001b[1;33m\u001b[0m\u001b[1;33m\u001b[0m\u001b[0m\n",
      "\u001b[1;31mKeyError\u001b[0m: 'a'"
     ]
    }
   ],
   "source": [
    "vowels=['a','e','i','o','u']\n",
    "dict1={} # we don't want to print the output without any 0 values.so we are not initialising the dictionary\n",
    "str1=\"Phanindra Reddy is a Data scientist\"\n",
    "for i in str1:\n",
    "    if i in vowels:\n",
    "        dict1[i]=dict1[i]+1\n",
    "print(dict1)\n",
    "#for k,v in sorted(dict1.items(),reverse=True): # put reverse=True to print in  the descending order\n",
    "    #print(k,\"presents\",v,\"times\")"
   ]
  },
  {
   "cell_type": "markdown",
   "id": "b2700d45",
   "metadata": {},
   "source": [
    "# why we got error here?\n",
    "Dictionary keys must be initialized\n",
    "\n",
    "Removing the initialization code has resulted in a runtime error, specifically \n",
    "a KeyError, which is raised when you try to access a value associated with \n",
    "a nonexistent key.\n",
    "Because the key can’t be found, the value associated with it \n",
    "can’t be found either, and you get an error."
   ]
  },
  {
   "cell_type": "code",
   "execution_count": 33,
   "id": "a49cf984",
   "metadata": {},
   "outputs": [],
   "source": [
    "# To avoid this kind of Keyerrors we will use the in membership operator so that there will be no errors in the output when accessing a non existent key\n"
   ]
  },
  {
   "cell_type": "code",
   "execution_count": 37,
   "id": "4dc16c7d",
   "metadata": {},
   "outputs": [
    {
     "name": "stdout",
     "output_type": "stream",
     "text": [
      "{'a': 5, 'i': 4, 'e': 2}\n"
     ]
    }
   ],
   "source": [
    "# super program this one\n",
    "# print count of vowels which are only founded \n",
    "vowels=['a','e','i','o','u']\n",
    "dict1={} # we don't want to print the output without any 0 values.so we are not initialising the dictionary\n",
    "str1=\"Phanindra Reddy is a Data scientist\"\n",
    "for i in str1:\n",
    "    if i in vowels:\n",
    "        if i in dict1:\n",
    "            dict1[i]=dict1[i]+1 # if it exists then increment by 1\n",
    "        else:\n",
    "            dict1[i]=1 # if it not exists then initialize it to 1 \n",
    "print(dict1)"
   ]
  },
  {
   "cell_type": "code",
   "execution_count": null,
   "id": "6378ff1a",
   "metadata": {},
   "outputs": [],
   "source": []
  }
 ],
 "metadata": {
  "kernelspec": {
   "display_name": "Python 3 (ipykernel)",
   "language": "python",
   "name": "python3"
  },
  "language_info": {
   "codemirror_mode": {
    "name": "ipython",
    "version": 3
   },
   "file_extension": ".py",
   "mimetype": "text/x-python",
   "name": "python",
   "nbconvert_exporter": "python",
   "pygments_lexer": "ipython3",
   "version": "3.9.13"
  }
 },
 "nbformat": 4,
 "nbformat_minor": 5
}
