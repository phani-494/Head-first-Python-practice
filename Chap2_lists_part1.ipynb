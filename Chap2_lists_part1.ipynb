{
 "cells": [
  {
   "cell_type": "markdown",
   "id": "4d49405e",
   "metadata": {},
   "source": [
    "# print vowels from a word"
   ]
  },
  {
   "cell_type": "code",
   "execution_count": 2,
   "id": "10a2253e",
   "metadata": {},
   "outputs": [
    {
     "name": "stdout",
     "output_type": "stream",
     "text": [
      "a\n",
      "a\n",
      "a\n",
      "a\n",
      "i\n",
      "e\n",
      "i\n"
     ]
    }
   ],
   "source": [
    "word=\"I am a data scientist\"\n",
    "vowels=[\"a\",\"i\",\"e\",\"o\",\"u\"]\n",
    "for letter in word:\n",
    "    if letter in vowels:\n",
    "        print(letter)"
   ]
  },
  {
   "cell_type": "code",
   "execution_count": 3,
   "id": "3be70b2d",
   "metadata": {},
   "outputs": [
    {
     "name": "stdout",
     "output_type": "stream",
     "text": [
      "a\n",
      "i\n",
      "e\n"
     ]
    }
   ],
   "source": [
    "# to print only once instead of every occurence i.e, no duplicates\n",
    "word=\"I am a data scientist\"\n",
    "vowels=[\"a\",\"i\",\"e\",\"o\",\"u\"]\n",
    "for letter in word:\n",
    "    if letter in vowels:\n",
    "        print(letter)\n",
    "        vowels.remove(letter)"
   ]
  },
  {
   "cell_type": "code",
   "execution_count": 6,
   "id": "48296e8f",
   "metadata": {},
   "outputs": [
    {
     "name": "stdout",
     "output_type": "stream",
     "text": [
      "['a', 'a', 'a', 'a', 'i', 'e', 'i']\n",
      "{'a', 'e', 'i'}\n"
     ]
    }
   ],
   "source": [
    "# we can use sets here to avoid the duplicates \n",
    "## the output displayed from the first program can be converted to set\n",
    "word=\"I am a data scientist\"\n",
    "vowels=[\"a\",\"i\",\"e\",\"o\",\"u\"]\n",
    "new_list=[]\n",
    "for letter in word:\n",
    "    if letter in vowels:\n",
    "        new_list.append(letter)\n",
    "print(new_list)\n",
    "print(set(new_list)) # converting the list to set"
   ]
  },
  {
   "cell_type": "markdown",
   "id": "cf0d1524",
   "metadata": {},
   "source": [
    "## Try to understand this code neatly\n",
    "# Original code"
   ]
  },
  {
   "cell_type": "code",
   "execution_count": 12,
   "id": "2638f41f",
   "metadata": {},
   "outputs": [
    {
     "name": "stdout",
     "output_type": "stream",
     "text": [
      "Enter your word:rtyuiopsdfghjkmnbvcxwertyui\n",
      "u\n",
      "i\n",
      "o\n",
      "e\n"
     ]
    }
   ],
   "source": [
    "vowels = ['a', 'e', 'i', 'o', 'u']\n",
    "word = input(\"Enter your word:\")\n",
    "found = []\n",
    "for letter in word:\n",
    " if letter in vowels:\n",
    "    if letter not in found:\n",
    "        found.append(letter)\n",
    "for vowel in found:\n",
    " print(vowel)\n"
   ]
  },
  {
   "cell_type": "markdown",
   "id": "e134f0b8",
   "metadata": {},
   "source": [
    "# remove method"
   ]
  },
  {
   "cell_type": "code",
   "execution_count": 8,
   "id": "5bffa237",
   "metadata": {},
   "outputs": [],
   "source": [
    "list1=[1,2,3,'indra',\"mahi\"]"
   ]
  },
  {
   "cell_type": "code",
   "execution_count": 6,
   "id": "75338f1d",
   "metadata": {},
   "outputs": [],
   "source": [
    "list1.remove(3) # removes the value itself ..not based on index \n",
    "# To remove(), we give the value itslef"
   ]
  },
  {
   "cell_type": "code",
   "execution_count": 7,
   "id": "e223645d",
   "metadata": {},
   "outputs": [
    {
     "data": {
      "text/plain": [
       "[1, 2, 'indra', 'mahi']"
      ]
     },
     "execution_count": 7,
     "metadata": {},
     "output_type": "execute_result"
    }
   ],
   "source": [
    "list1"
   ]
  },
  {
   "cell_type": "code",
   "execution_count": 9,
   "id": "8892a527",
   "metadata": {},
   "outputs": [
    {
     "ename": "ValueError",
     "evalue": "list.remove(x): x not in list",
     "output_type": "error",
     "traceback": [
      "\u001b[1;31m---------------------------------------------------------------------------\u001b[0m",
      "\u001b[1;31mValueError\u001b[0m                                Traceback (most recent call last)",
      "\u001b[1;32m~\\AppData\\Local\\Temp\\ipykernel_42608\\2738958373.py\u001b[0m in \u001b[0;36m<module>\u001b[1;34m\u001b[0m\n\u001b[1;32m----> 1\u001b[1;33m \u001b[0mlist1\u001b[0m\u001b[1;33m.\u001b[0m\u001b[0mremove\u001b[0m\u001b[1;33m(\u001b[0m\u001b[1;34m\"raja\"\u001b[0m\u001b[1;33m)\u001b[0m\u001b[1;33m\u001b[0m\u001b[1;33m\u001b[0m\u001b[0m\n\u001b[0m",
      "\u001b[1;31mValueError\u001b[0m: list.remove(x): x not in list"
     ]
    }
   ],
   "source": [
    "list1.remove(\"raja\")"
   ]
  },
  {
   "cell_type": "code",
   "execution_count": 11,
   "id": "0775c92b",
   "metadata": {},
   "outputs": [
    {
     "data": {
      "text/plain": [
       "'mahi'"
      ]
     },
     "execution_count": 11,
     "metadata": {},
     "output_type": "execute_result"
    }
   ],
   "source": [
    "list1.pop(3) # now the value at index 3 is removed from the list\n",
    "# if u want to save it then u can assign it to a variable else the value will disappears"
   ]
  },
  {
   "cell_type": "code",
   "execution_count": 13,
   "id": "46a83c02",
   "metadata": {},
   "outputs": [
    {
     "data": {
      "text/plain": [
       "[1, 2, 3]"
      ]
     },
     "execution_count": 13,
     "metadata": {},
     "output_type": "execute_result"
    }
   ],
   "source": [
    "list1"
   ]
  },
  {
   "cell_type": "code",
   "execution_count": 16,
   "id": "81bcd7d9",
   "metadata": {},
   "outputs": [],
   "source": [
    "x=list1.pop() # if no index is present then the last value in the item will be popped out"
   ]
  },
  {
   "cell_type": "code",
   "execution_count": 17,
   "id": "ea293adb",
   "metadata": {},
   "outputs": [
    {
     "name": "stdout",
     "output_type": "stream",
     "text": [
      "2\n"
     ]
    }
   ],
   "source": [
    "print(x)"
   ]
  },
  {
   "cell_type": "markdown",
   "id": "40013b95",
   "metadata": {},
   "source": [
    "# extend()"
   ]
  },
  {
   "cell_type": "code",
   "execution_count": 18,
   "id": "f5c76187",
   "metadata": {},
   "outputs": [],
   "source": [
    "# to combine two lists into a single list then use the extend()"
   ]
  },
  {
   "cell_type": "code",
   "execution_count": 19,
   "id": "777343af",
   "metadata": {},
   "outputs": [],
   "source": [
    "list2=[1,2,3,4,5]"
   ]
  },
  {
   "cell_type": "code",
   "execution_count": 22,
   "id": "5697046f",
   "metadata": {},
   "outputs": [],
   "source": [
    "list2.extend([7,8,9]) # instead of a single data value if u want to add many values into a list then use the extend()"
   ]
  },
  {
   "cell_type": "code",
   "execution_count": 23,
   "id": "cea146e1",
   "metadata": {},
   "outputs": [
    {
     "data": {
      "text/plain": [
       "[1, 2, 3, 4, 5, 7, 8, 9, 7, 8, 9]"
      ]
     },
     "execution_count": 23,
     "metadata": {},
     "output_type": "execute_result"
    }
   ],
   "source": [
    "list2"
   ]
  },
  {
   "cell_type": "code",
   "execution_count": 26,
   "id": "18c7d8fd",
   "metadata": {},
   "outputs": [],
   "source": [
    "list2.extend([]) # no error since we are adding an empty list to a list"
   ]
  },
  {
   "cell_type": "code",
   "execution_count": 27,
   "id": "f64b1331",
   "metadata": {},
   "outputs": [
    {
     "data": {
      "text/plain": [
       "[1, 2, 3, 4, 5, 7, 8, 9, 7, 8, 9]"
      ]
     },
     "execution_count": 27,
     "metadata": {},
     "output_type": "execute_result"
    }
   ],
   "source": [
    "list2"
   ]
  },
  {
   "cell_type": "code",
   "execution_count": 28,
   "id": "3bb540c2",
   "metadata": {},
   "outputs": [],
   "source": [
    "list2.append([])"
   ]
  },
  {
   "cell_type": "code",
   "execution_count": 29,
   "id": "b93d9c8d",
   "metadata": {},
   "outputs": [
    {
     "data": {
      "text/plain": [
       "[1, 2, 3, 4, 5, 7, 8, 9, 7, 8, 9, []]"
      ]
     },
     "execution_count": 29,
     "metadata": {},
     "output_type": "execute_result"
    }
   ],
   "source": [
    "list2"
   ]
  },
  {
   "cell_type": "code",
   "execution_count": null,
   "id": "1c3e4c1e",
   "metadata": {},
   "outputs": [],
   "source": []
  }
 ],
 "metadata": {
  "kernelspec": {
   "display_name": "Python 3 (ipykernel)",
   "language": "python",
   "name": "python3"
  },
  "language_info": {
   "codemirror_mode": {
    "name": "ipython",
    "version": 3
   },
   "file_extension": ".py",
   "mimetype": "text/x-python",
   "name": "python",
   "nbconvert_exporter": "python",
   "pygments_lexer": "ipython3",
   "version": "3.9.13"
  }
 },
 "nbformat": 4,
 "nbformat_minor": 5
}
