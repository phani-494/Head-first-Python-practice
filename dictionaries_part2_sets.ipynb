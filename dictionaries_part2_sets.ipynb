{
 "cells": [
  {
   "cell_type": "markdown",
   "id": "76679b9b",
   "metadata": {},
   "source": [
    "# Dictionaries-part2"
   ]
  },
  {
   "cell_type": "markdown",
   "id": "d7fa44b1",
   "metadata": {},
   "source": [
    "### use not in operator to initialiase the non existent keys"
   ]
  },
  {
   "cell_type": "code",
   "execution_count": 2,
   "id": "8a390a9a",
   "metadata": {},
   "outputs": [],
   "source": [
    "fruits=[\"apple\",\"banana\",\"mango\",\"apple\",\"kiwi\",\"mango\",\"badam\",\"grapes\",\"sapota\"]"
   ]
  },
  {
   "cell_type": "code",
   "execution_count": 8,
   "id": "21aff486",
   "metadata": {},
   "outputs": [
    {
     "name": "stdout",
     "output_type": "stream",
     "text": [
      "{'apple': 0, 'banana': 0, 'mango': 0, 'kiwi': 0, 'badam': 0, 'grapes': 0, 'sapota': 0}\n"
     ]
    }
   ],
   "source": [
    "d1={}\n",
    "for fruit in fruits: # initialsing all the fruits to zero before accessing them\n",
    "    if fruit not in d1:\n",
    "        d1[fruit]=0\n",
    "print(d1)\n"
   ]
  },
  {
   "cell_type": "markdown",
   "id": "f549d502",
   "metadata": {},
   "source": [
    "# setdefault\n",
    "--> helps to avoid the key error exception which occurs when any key is not found in the dictionary"
   ]
  },
  {
   "cell_type": "code",
   "execution_count": 10,
   "id": "1300c768",
   "metadata": {},
   "outputs": [],
   "source": [
    "if \"pears\" not in fruits:\n",
    "    d1[\"pears\"]=0\n",
    "   # The setdefault method does what the two\u0002line if/not in statements do, but uses only a single line of code."
   ]
  },
  {
   "cell_type": "code",
   "execution_count": 11,
   "id": "e1671b6f",
   "metadata": {},
   "outputs": [
    {
     "data": {
      "text/plain": [
       "{'apple': 0,\n",
       " 'banana': 0,\n",
       " 'mango': 0,\n",
       " 'kiwi': 0,\n",
       " 'badam': 0,\n",
       " 'grapes': 0,\n",
       " 'sapota': 0,\n",
       " 'pears': 0}"
      ]
     },
     "execution_count": 11,
     "metadata": {},
     "output_type": "execute_result"
    }
   ],
   "source": [
    "d1"
   ]
  },
  {
   "cell_type": "code",
   "execution_count": 12,
   "id": "8224b7c9",
   "metadata": {},
   "outputs": [],
   "source": [
    "# instead of the two lines used above we can use the single line setdefault here and execute\n",
    "# setdefault will helps to initialise the non existent key to the value user provide if the key doesn't exist"
   ]
  },
  {
   "cell_type": "code",
   "execution_count": 13,
   "id": "66e7e8ce",
   "metadata": {},
   "outputs": [
    {
     "data": {
      "text/plain": [
       "10"
      ]
     },
     "execution_count": 13,
     "metadata": {},
     "output_type": "execute_result"
    }
   ],
   "source": [
    "d1.setdefault(\"lemon\",10) # since lemon is not exist so it worked here"
   ]
  },
  {
   "cell_type": "code",
   "execution_count": 14,
   "id": "b7980bb6",
   "metadata": {},
   "outputs": [
    {
     "data": {
      "text/plain": [
       "{'apple': 0,\n",
       " 'banana': 0,\n",
       " 'mango': 0,\n",
       " 'kiwi': 0,\n",
       " 'badam': 0,\n",
       " 'grapes': 0,\n",
       " 'sapota': 0,\n",
       " 'pears': 0,\n",
       " 'lemon': 10}"
      ]
     },
     "execution_count": 14,
     "metadata": {},
     "output_type": "execute_result"
    }
   ],
   "source": [
    "d1"
   ]
  },
  {
   "cell_type": "code",
   "execution_count": 17,
   "id": "4ae70c55",
   "metadata": {},
   "outputs": [
    {
     "data": {
      "text/plain": [
       "0"
      ]
     },
     "execution_count": 17,
     "metadata": {},
     "output_type": "execute_result"
    }
   ],
   "source": [
    "d1.setdefault(\"banana\",7) # since the banana key is already there so it won't changes to the 7 value because the effect won't takes place on the existent key"
   ]
  },
  {
   "cell_type": "code",
   "execution_count": 18,
   "id": "35c93deb",
   "metadata": {},
   "outputs": [
    {
     "data": {
      "text/plain": [
       "{'apple': 0,\n",
       " 'banana': 0,\n",
       " 'mango': 0,\n",
       " 'kiwi': 0,\n",
       " 'badam': 0,\n",
       " 'grapes': 0,\n",
       " 'sapota': 0,\n",
       " 'pears': 0,\n",
       " 'lemon': 10}"
      ]
     },
     "execution_count": 18,
     "metadata": {},
     "output_type": "execute_result"
    }
   ],
   "source": [
    "d1"
   ]
  },
  {
   "cell_type": "code",
   "execution_count": 29,
   "id": "e6a1b7f3",
   "metadata": {},
   "outputs": [
    {
     "name": "stdout",
     "output_type": "stream",
     "text": [
      "[('apple', 2), ('badam', 1), ('banana', 1), ('grapes', 1), ('kiwi', 1), ('mango', 2), ('sapota', 1)]\n"
     ]
    }
   ],
   "source": [
    "d1={}\n",
    "for fruit in fruits: # initialsing all the fruits to zero before accessing them\n",
    "        d1.setdefault(fruit,0) # this will set fruit to zero if it is not found\n",
    "        if fruit in d1:\n",
    "            d1[fruit]+=1\n",
    "print(sorted(d1.items()))"
   ]
  },
  {
   "cell_type": "markdown",
   "id": "585f5c97",
   "metadata": {},
   "source": [
    "# SETS"
   ]
  },
  {
   "cell_type": "markdown",
   "id": "bd2bd99d",
   "metadata": {},
   "source": [
    "Sets: simply convert the long \n",
    "list of names to a set (which removes the duplicates), then convert the set back to a list \n",
    "and—ta da!—you have a list of unique first names"
   ]
  },
  {
   "cell_type": "code",
   "execution_count": 1,
   "id": "b677e75d",
   "metadata": {},
   "outputs": [],
   "source": [
    "#. As lists always perform slow sequential searches, sets should always be preferred for lookup. "
   ]
  },
  {
   "cell_type": "code",
   "execution_count": 2,
   "id": "1cc61db3",
   "metadata": {},
   "outputs": [],
   "source": [
    "set1={'a',\"e\",\"i\",\"o\",\"a\",\"e\",\"i\",\"u\",\"i\"}"
   ]
  },
  {
   "cell_type": "code",
   "execution_count": 4,
   "id": "f0c2fe94",
   "metadata": {},
   "outputs": [
    {
     "data": {
      "text/plain": [
       "{'a', 'e', 'i', 'o', 'u'}"
      ]
     },
     "execution_count": 4,
     "metadata": {},
     "output_type": "execute_result"
    }
   ],
   "source": [
    "set1"
   ]
  },
  {
   "cell_type": "code",
   "execution_count": 5,
   "id": "c3b73e7e",
   "metadata": {},
   "outputs": [
    {
     "name": "stdout",
     "output_type": "stream",
     "text": [
      "{'u', 'o', 'e', 'a', 'i'}\n"
     ]
    }
   ],
   "source": [
    "print(set1)"
   ]
  },
  {
   "cell_type": "code",
   "execution_count": 6,
   "id": "5e1bdbe3",
   "metadata": {},
   "outputs": [],
   "source": [
    "# here duplicates are removed from set and we got unique elements but not in particular order\n",
    "# sets also uses the { } but there will be colon in dictionary,here no colon in sets."
   ]
  },
  {
   "cell_type": "code",
   "execution_count": 7,
   "id": "21d58019",
   "metadata": {},
   "outputs": [
    {
     "data": {
      "text/plain": [
       "dict"
      ]
     },
     "execution_count": 7,
     "metadata": {},
     "output_type": "execute_result"
    }
   ],
   "source": [
    "type({})"
   ]
  },
  {
   "cell_type": "code",
   "execution_count": 8,
   "id": "67cb2b77",
   "metadata": {},
   "outputs": [
    {
     "data": {
      "text/plain": [
       "set"
      ]
     },
     "execution_count": 8,
     "metadata": {},
     "output_type": "execute_result"
    }
   ],
   "source": [
    "type({1,})"
   ]
  },
  {
   "cell_type": "code",
   "execution_count": 12,
   "id": "6485f0ec",
   "metadata": {},
   "outputs": [
    {
     "name": "stdout",
     "output_type": "stream",
     "text": [
      "{1, 2, 3, 4, 5, 6, 7}\n",
      "[1, 2, 3, 4, 5, 6, 7]\n"
     ]
    }
   ],
   "source": [
    "l1=[1,2,3,4,5,6,7,5,4,3,2,1]\n",
    "y=set(l1) # we can convert a list to  a set\n",
    "print(y)\n",
    "z=list(y)\n",
    "print(z)"
   ]
  },
  {
   "cell_type": "markdown",
   "id": "61cc4a13",
   "metadata": {},
   "source": [
    "1. Insertion order is not maintained by the interpreter when a set is used. However. like all other data \n",
    "   structures, sets can be ordered on output with the sorted function."
   ]
  },
  {
   "cell_type": "markdown",
   "id": "0dd72684",
   "metadata": {},
   "source": [
    "2.you can pass any sequence (such as a string) to the set function to quickly generate a set"
   ]
  },
  {
   "cell_type": "code",
   "execution_count": 13,
   "id": "6be38ca7",
   "metadata": {},
   "outputs": [],
   "source": [
    "str1=\"Indra is the greatest Data scientist\""
   ]
  },
  {
   "cell_type": "code",
   "execution_count": 14,
   "id": "b0a1e763",
   "metadata": {},
   "outputs": [
    {
     "data": {
      "text/plain": [
       "{' ', 'D', 'I', 'a', 'c', 'd', 'e', 'g', 'i', 'n', 'r', 's', 't'}"
      ]
     },
     "execution_count": 14,
     "metadata": {},
     "output_type": "execute_result"
    }
   ],
   "source": [
    "set(str1)"
   ]
  },
  {
   "cell_type": "code",
   "execution_count": 15,
   "id": "94e9833c",
   "metadata": {},
   "outputs": [
    {
     "data": {
      "text/plain": [
       "13"
      ]
     },
     "execution_count": 15,
     "metadata": {},
     "output_type": "execute_result"
    }
   ],
   "source": [
    "len(set(str1))"
   ]
  },
  {
   "cell_type": "code",
   "execution_count": 16,
   "id": "37c24d85",
   "metadata": {},
   "outputs": [],
   "source": [
    "vowels=set(\"aeiou\")\n",
    "word=set(\"Indrasena is the best\")"
   ]
  },
  {
   "cell_type": "code",
   "execution_count": 23,
   "id": "b1ef2ed0",
   "metadata": {},
   "outputs": [],
   "source": [
    "x=vowels.union(word) # This new variable is a combination of the objects in both sets (a union):\n",
    "#The “x” set consists of all the unique objects from both sets."
   ]
  },
  {
   "cell_type": "code",
   "execution_count": 24,
   "id": "b7403383",
   "metadata": {},
   "outputs": [
    {
     "name": "stdout",
     "output_type": "stream",
     "text": [
      "{'t', 'a', 'o', 'r', 'i', ' ', 'n', 's', 'd', 'e', 'h', 'u', 'I', 'b'}\n"
     ]
    }
   ],
   "source": [
    "print(x)"
   ]
  },
  {
   "cell_type": "code",
   "execution_count": 22,
   "id": "141a6d1e",
   "metadata": {},
   "outputs": [
    {
     "name": "stdout",
     "output_type": "stream",
     "text": [
      "{'t', 'a', 'o', 'r', 'i', ' ', 'n', 's', 'd', 'e', 'h', 'u', 'I', 'b'}\n"
     ]
    }
   ],
   "source": [
    "print(x)"
   ]
  },
  {
   "cell_type": "code",
   "execution_count": 25,
   "id": "679cd0a0",
   "metadata": {},
   "outputs": [],
   "source": [
    "new_list=sorted(list(x))"
   ]
  },
  {
   "cell_type": "code",
   "execution_count": 26,
   "id": "b7d5dc3d",
   "metadata": {},
   "outputs": [
    {
     "data": {
      "text/plain": [
       "[' ', 'I', 'a', 'b', 'd', 'e', 'h', 'i', 'n', 'o', 'r', 's', 't', 'u']"
      ]
     },
     "execution_count": 26,
     "metadata": {},
     "output_type": "execute_result"
    }
   ],
   "source": [
    "new_list"
   ]
  },
  {
   "cell_type": "code",
   "execution_count": 30,
   "id": "6df0696a",
   "metadata": {},
   "outputs": [],
   "source": [
    "diff=vowels.difference(word) # comapares both and removes common elements in vowles and returns only unique elements from the vowles set"
   ]
  },
  {
   "cell_type": "code",
   "execution_count": 31,
   "id": "d1f1ca57",
   "metadata": {},
   "outputs": [
    {
     "data": {
      "text/plain": [
       "{'o', 'u'}"
      ]
     },
     "execution_count": 31,
     "metadata": {},
     "output_type": "execute_result"
    }
   ],
   "source": [
    "diff # The “diff” set consists of all the objects in “vowels” that aren’t in “set(word)”."
   ]
  },
  {
   "cell_type": "code",
   "execution_count": 34,
   "id": "927e4819",
   "metadata": {},
   "outputs": [],
   "source": [
    "int_sec=vowels.intersection(word) # which gives the common elements present in both the sets"
   ]
  },
  {
   "cell_type": "code",
   "execution_count": 35,
   "id": "64ecf33d",
   "metadata": {},
   "outputs": [
    {
     "data": {
      "text/plain": [
       "{'a', 'e', 'i'}"
      ]
     },
     "execution_count": 35,
     "metadata": {},
     "output_type": "execute_result"
    }
   ],
   "source": [
    "int_sec"
   ]
  },
  {
   "cell_type": "code",
   "execution_count": 36,
   "id": "a6ae6d6a",
   "metadata": {},
   "outputs": [
    {
     "name": "stdout",
     "output_type": "stream",
     "text": [
      "Provide a word to search for vowels: indrsena\n",
      "i\n",
      "e\n",
      "a\n"
     ]
    }
   ],
   "source": [
    "\n",
    "vowels = ['a', 'e', 'i', 'o', 'u']\n",
    "word = input(\"Provide a word to search for vowels: \")\n",
    "found = []\n",
    "for letter in word:\n",
    "    if letter in vowels:\n",
    "        if letter not in found:\n",
    "            found.append(letter)\n",
    "for vowel in found:\n",
    " print(vowel)"
   ]
  },
  {
   "cell_type": "code",
   "execution_count": 37,
   "id": "c08b8796",
   "metadata": {},
   "outputs": [],
   "source": [
    "# we can use single line by using sets and get the results instead of using five lines"
   ]
  },
  {
   "cell_type": "code",
   "execution_count": 38,
   "id": "5d31ec42",
   "metadata": {},
   "outputs": [
    {
     "name": "stdout",
     "output_type": "stream",
     "text": [
      "Provide a word to search for vowels: Maharaja is me only.\n",
      "e\n",
      "o\n",
      "a\n",
      "i\n"
     ]
    }
   ],
   "source": [
    "vowels = set(\"aeiou\")\n",
    "word = input(\"Provide a word to search for vowels: \")\n",
    "s1=set(word)\n",
    "found =vowels.intersection(s1) \n",
    "for vowel in found:\n",
    "    print(vowel)"
   ]
  },
  {
   "cell_type": "markdown",
   "id": "e8136e88",
   "metadata": {},
   "source": [
    "# using the set was perfet choice here.\n",
    "Important observation\n",
    "But that’s not to say that the two other data structures don’t have their uses.\n",
    "For instance, if you need to perform, say, a frequency count, Python’s dictionary works best.\n",
    "However, if you are more concerned with maintaining insertion order, then only a list will do...which is almost true"
   ]
  },
  {
   "cell_type": "markdown",
   "id": "4dd548e1",
   "metadata": {},
   "source": [
    "# Storing a Table of Data\n",
    "As everything is an object, any of the built-in data structures can be stored in any \n",
    "other built-in data structure, enabling the construction of arbitrarily complex data \n",
    "structures...subject to your brain’s ability to actually visualize what’s going on. For \n",
    "instance, although a dictionary of lists containing tuples that contain sets of dictionaries"
   ]
  },
  {
   "cell_type": "markdown",
   "id": "5fd44def",
   "metadata": {},
   "source": [
    "# complex data structures\n",
    "## Nested dictionaries"
   ]
  },
  {
   "cell_type": "code",
   "execution_count": 41,
   "id": "6482010e",
   "metadata": {},
   "outputs": [],
   "source": [
    "dict1={\"Phani\":{\"age\":58,\"class\":12,\"height\":180,\"salary\":50000000},\n",
    "       \"ram\":{\"age\":23,\"class\":5,\"height\":150,\"salary\":2000000},\n",
    "       \"raja\":{\"age\":34,\"class\":22,\"height\":200,\"salary\":100000}}"
   ]
  },
  {
   "cell_type": "code",
   "execution_count": 42,
   "id": "a310a60d",
   "metadata": {},
   "outputs": [
    {
     "data": {
      "text/plain": [
       "{'age': 34, 'class': 22, 'height': 200, 'salary': 100000}"
      ]
     },
     "execution_count": 42,
     "metadata": {},
     "output_type": "execute_result"
    }
   ],
   "source": [
    "dict1[\"raja\"]"
   ]
  },
  {
   "cell_type": "code",
   "execution_count": 43,
   "id": "3eee9ea7",
   "metadata": {},
   "outputs": [
    {
     "data": {
      "text/plain": [
       "34"
      ]
     },
     "execution_count": 43,
     "metadata": {},
     "output_type": "execute_result"
    }
   ],
   "source": [
    "dict1[\"raja\"][\"age\"]"
   ]
  },
  {
   "cell_type": "markdown",
   "id": "6bef9d76",
   "metadata": {},
   "source": [
    "1.Using double square brackets lets you access any data value from a table by \n",
    "identifying the row and column you are interested in. The row corresponds to a \n",
    "key used by the enclosing dictionary (people, in our example), while the column \n",
    "corresponds to any of the keys used by an embedded dictionary"
   ]
  },
  {
   "cell_type": "markdown",
   "id": "3209895d",
   "metadata": {},
   "source": [
    "## pprint\n",
    "# The standard library includes a module called pprint that can take any data \n",
    "structure and display it in a easier-to-read format. The name pprint is a \n",
    "shorthand for “pretty print.”"
   ]
  },
  {
   "cell_type": "code",
   "execution_count": 47,
   "id": "d9ba4308",
   "metadata": {},
   "outputs": [
    {
     "data": {
      "text/plain": [
       "{'Phani': {'age': 58, 'class': 12, 'height': 180, 'salary': 50000000},\n",
       " 'ram': {'age': 23, 'class': 5, 'height': 150, 'salary': 2000000},\n",
       " 'raja': {'age': 34, 'class': 22, 'height': 200, 'salary': 100000}}"
      ]
     },
     "execution_count": 47,
     "metadata": {},
     "output_type": "execute_result"
    }
   ],
   "source": [
    "# Pretty printing complex data structures\n",
    "dict1={\"Phani\":{\"age\":58,\"class\":12,\"height\":180,\"salary\":50000000},\"ram\":{\"age\":23,\"class\":5,\"height\":150,\"salary\":2000000}, \"raja\":{\"age\":34,\"class\":22,\"height\":200,\"salary\":100000}}\n",
    "dict1"
   ]
  },
  {
   "cell_type": "code",
   "execution_count": 48,
   "id": "0efae445",
   "metadata": {},
   "outputs": [
    {
     "name": "stdout",
     "output_type": "stream",
     "text": [
      "{'Phani': {'age': 58, 'class': 12, 'height': 180, 'salary': 50000000},\n",
      " 'raja': {'age': 34, 'class': 22, 'height': 200, 'salary': 100000},\n",
      " 'ram': {'age': 23, 'class': 5, 'height': 150, 'salary': 2000000}}\n"
     ]
    }
   ],
   "source": [
    "import pprint\n",
    "pprint.pprint(dict1)"
   ]
  },
  {
   "cell_type": "code",
   "execution_count": 51,
   "id": "28bb53c8",
   "metadata": {},
   "outputs": [],
   "source": [
    "persons={'Ford': {'Occupation': 'Researcher', 'Gender': 'Male', \n",
    "'Home Planet': 'Betelgeuse Seven', 'Name': 'Ford Prefect'}, \n",
    "'Trillian': {'Occupation': 'Mathematician', 'Gender': \n",
    "'Female', 'Home Planet': 'Earth', 'Name': 'Tricia McMillan'}, 'Robot': {'Occupation': 'Paranoid Android', \n",
    "'Gender': 'Unknown', 'Home Planet': 'Unknown', 'Name': \n",
    "'Marvin'}, 'Arthur': {'Occupation': 'Sandwich-Maker', \n",
    "'Gender': 'Male', 'Home Planet': 'Earth', 'Name': 'Arthur Dent'}}"
   ]
  },
  {
   "cell_type": "code",
   "execution_count": 52,
   "id": "7c6b3287",
   "metadata": {},
   "outputs": [
    {
     "data": {
      "text/plain": [
       "{'Ford': {'Occupation': 'Researcher',\n",
       "  'Gender': 'Male',\n",
       "  'Home Planet': 'Betelgeuse Seven',\n",
       "  'Name': 'Ford Prefect'},\n",
       " 'Trillian': {'Occupation': 'Mathematician',\n",
       "  'Gender': 'Female',\n",
       "  'Home Planet': 'Earth',\n",
       "  'Name': 'Tricia McMillan'},\n",
       " 'Robot': {'Occupation': 'Paranoid Android',\n",
       "  'Gender': 'Unknown',\n",
       "  'Home Planet': 'Unknown',\n",
       "  'Name': 'Marvin'},\n",
       " 'Arthur': {'Occupation': 'Sandwich-Maker',\n",
       "  'Gender': 'Male',\n",
       "  'Home Planet': 'Earth',\n",
       "  'Name': 'Arthur Dent'}}"
      ]
     },
     "execution_count": 52,
     "metadata": {},
     "output_type": "execute_result"
    }
   ],
   "source": [
    "persons\n"
   ]
  },
  {
   "cell_type": "code",
   "execution_count": 53,
   "id": "00523940",
   "metadata": {},
   "outputs": [
    {
     "name": "stdout",
     "output_type": "stream",
     "text": [
      "{'Arthur': {'Gender': 'Male',\n",
      "            'Home Planet': 'Earth',\n",
      "            'Name': 'Arthur Dent',\n",
      "            'Occupation': 'Sandwich-Maker'},\n",
      " 'Ford': {'Gender': 'Male',\n",
      "          'Home Planet': 'Betelgeuse Seven',\n",
      "          'Name': 'Ford Prefect',\n",
      "          'Occupation': 'Researcher'},\n",
      " 'Robot': {'Gender': 'Unknown',\n",
      "           'Home Planet': 'Unknown',\n",
      "           'Name': 'Marvin',\n",
      "           'Occupation': 'Paranoid Android'},\n",
      " 'Trillian': {'Gender': 'Female',\n",
      "              'Home Planet': 'Earth',\n",
      "              'Name': 'Tricia McMillan',\n",
      "              'Occupation': 'Mathematician'}}\n"
     ]
    }
   ],
   "source": [
    "pprint.pprint(persons) # here the data is prettily printed which means the data will look good "
   ]
  },
  {
   "cell_type": "code",
   "execution_count": null,
   "id": "4e407a9a",
   "metadata": {},
   "outputs": [],
   "source": []
  }
 ],
 "metadata": {
  "kernelspec": {
   "display_name": "Python 3 (ipykernel)",
   "language": "python",
   "name": "python3"
  },
  "language_info": {
   "codemirror_mode": {
    "name": "ipython",
    "version": 3
   },
   "file_extension": ".py",
   "mimetype": "text/x-python",
   "name": "python",
   "nbconvert_exporter": "python",
   "pygments_lexer": "ipython3",
   "version": "3.9.13"
  }
 },
 "nbformat": 4,
 "nbformat_minor": 5
}
