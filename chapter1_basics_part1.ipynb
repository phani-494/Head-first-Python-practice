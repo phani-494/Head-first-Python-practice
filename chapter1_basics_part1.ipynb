{
 "cells": [
  {
   "cell_type": "markdown",
   "id": "87bd1757",
   "metadata": {},
   "source": [
    "# Dictionaries-part2"
   ]
  },
  {
   "cell_type": "markdown",
   "id": "370f5677",
   "metadata": {},
   "source": [
    "### use not in operator to initialiase the non existent keys"
   ]
  },
  {
   "cell_type": "code",
   "execution_count": 2,
   "id": "8652f3ca",
   "metadata": {},
   "outputs": [],
   "source": [
    "fruits=[\"apple\",\"banana\",\"mango\",\"apple\",\"kiwi\",\"mango\",\"badam\",\"grapes\",\"sapota\"]"
   ]
  },
  {
   "cell_type": "code",
   "execution_count": 8,
   "id": "01260989",
   "metadata": {},
   "outputs": [
    {
     "name": "stdout",
     "output_type": "stream",
     "text": [
      "{'apple': 0, 'banana': 0, 'mango': 0, 'kiwi': 0, 'badam': 0, 'grapes': 0, 'sapota': 0}\n"
     ]
    }
   ],
   "source": [
    "d1={}\n",
    "for fruit in fruits: # initialsing all the fruits to zero before accessing them\n",
    "    if fruit not in d1:\n",
    "        d1[fruit]=0\n",
    "print(d1)\n"
   ]
  },
  {
   "cell_type": "markdown",
   "id": "92bd2b83",
   "metadata": {},
   "source": [
    "# setdefault\n",
    "--> helps to avoid the key error exception which occurs when any key is not found in the dictionary"
   ]
  },
  {
   "cell_type": "code",
   "execution_count": 10,
   "id": "612b14e8",
   "metadata": {},
   "outputs": [],
   "source": [
    "if \"pears\" not in fruits:\n",
    "    d1[\"pears\"]=0\n",
    "   # The setdefault method does what the two\u0002line if/not in statements do, but uses only a single line of code."
   ]
  },
  {
   "cell_type": "code",
   "execution_count": 11,
   "id": "44a089ff",
   "metadata": {},
   "outputs": [
    {
     "data": {
      "text/plain": [
       "{'apple': 0,\n",
       " 'banana': 0,\n",
       " 'mango': 0,\n",
       " 'kiwi': 0,\n",
       " 'badam': 0,\n",
       " 'grapes': 0,\n",
       " 'sapota': 0,\n",
       " 'pears': 0}"
      ]
     },
     "execution_count": 11,
     "metadata": {},
     "output_type": "execute_result"
    }
   ],
   "source": [
    "d1"
   ]
  },
  {
   "cell_type": "code",
   "execution_count": 12,
   "id": "f6fc8901",
   "metadata": {},
   "outputs": [],
   "source": [
    "# instead of the two lines used above we can use the single line setdefault here and execute\n",
    "# setdefault will helps to initialise the non existent key to the value user provide if the key doesn't exist"
   ]
  },
  {
   "cell_type": "code",
   "execution_count": 13,
   "id": "a133909d",
   "metadata": {},
   "outputs": [
    {
     "data": {
      "text/plain": [
       "10"
      ]
     },
     "execution_count": 13,
     "metadata": {},
     "output_type": "execute_result"
    }
   ],
   "source": [
    "d1.setdefault(\"lemon\",10) # since lemon is not exist so it worked here"
   ]
  },
  {
   "cell_type": "code",
   "execution_count": 14,
   "id": "265f4183",
   "metadata": {},
   "outputs": [
    {
     "data": {
      "text/plain": [
       "{'apple': 0,\n",
       " 'banana': 0,\n",
       " 'mango': 0,\n",
       " 'kiwi': 0,\n",
       " 'badam': 0,\n",
       " 'grapes': 0,\n",
       " 'sapota': 0,\n",
       " 'pears': 0,\n",
       " 'lemon': 10}"
      ]
     },
     "execution_count": 14,
     "metadata": {},
     "output_type": "execute_result"
    }
   ],
   "source": [
    "d1"
   ]
  },
  {
   "cell_type": "code",
   "execution_count": 17,
   "id": "13664677",
   "metadata": {},
   "outputs": [
    {
     "data": {
      "text/plain": [
       "0"
      ]
     },
     "execution_count": 17,
     "metadata": {},
     "output_type": "execute_result"
    }
   ],
   "source": [
    "d1.setdefault(\"banana\",7) # since the banana key is already there so it won't changes to the 7 value because the effect won't takes place on the existent key"
   ]
  },
  {
   "cell_type": "code",
   "execution_count": 18,
   "id": "bb59059f",
   "metadata": {},
   "outputs": [
    {
     "data": {
      "text/plain": [
       "{'apple': 0,\n",
       " 'banana': 0,\n",
       " 'mango': 0,\n",
       " 'kiwi': 0,\n",
       " 'badam': 0,\n",
       " 'grapes': 0,\n",
       " 'sapota': 0,\n",
       " 'pears': 0,\n",
       " 'lemon': 10}"
      ]
     },
     "execution_count": 18,
     "metadata": {},
     "output_type": "execute_result"
    }
   ],
   "source": [
    "d1"
   ]
  },
  {
   "cell_type": "code",
   "execution_count": 29,
   "id": "a4626bc2",
   "metadata": {},
   "outputs": [
    {
     "name": "stdout",
     "output_type": "stream",
     "text": [
      "[('apple', 2), ('badam', 1), ('banana', 1), ('grapes', 1), ('kiwi', 1), ('mango', 2), ('sapota', 1)]\n"
     ]
    }
   ],
   "source": [
    "d1={}\n",
    "for fruit in fruits: # initialsing all the fruits to zero before accessing them\n",
    "        d1.setdefault(fruit,0) # this will set fruit to zero if it is not found\n",
    "        if fruit in d1:\n",
    "            d1[fruit]+=1\n",
    "print(sorted(d1.items()))"
   ]
  },
  {
   "cell_type": "markdown",
   "id": "b50d10f1",
   "metadata": {},
   "source": [
    "# chapter 1 basics"
   ]
  },
  {
   "cell_type": "markdown",
   "id": "678e30ed",
   "metadata": {},
   "source": [
    "1. “IDLE” refers to the IDE, which takes your Python code and runs it through the interpreter.\n",
    "2.It’s the interpreter that does all the actual work here. "
   ]
  },
  {
   "cell_type": "code",
   "execution_count": 6,
   "id": "25a33b9a",
   "metadata": {},
   "outputs": [
    {
     "name": "stdout",
     "output_type": "stream",
     "text": [
      "13\n"
     ]
    }
   ],
   "source": [
    "from datetime import datetime\n",
    "# first datetime is a module and second datetime is a sub module\n",
    "# The first line of code imports some preexisting functionality from Python’s standard library, which is a large stock of software modules providing lots \n",
    "#of prebuilt (and high-quality) reusable code. \n",
    "current_min=datetime.today().minute\n",
    "print(current_min)"
   ]
  },
  {
   "cell_type": "code",
   "execution_count": 11,
   "id": "51af7fa8",
   "metadata": {},
   "outputs": [],
   "source": [
    "from datetime import *\n",
    "sec=datetime.today().second"
   ]
  },
  {
   "cell_type": "code",
   "execution_count": 12,
   "id": "51a1c35b",
   "metadata": {},
   "outputs": [
    {
     "name": "stdout",
     "output_type": "stream",
     "text": [
      "5\n"
     ]
    }
   ],
   "source": [
    "print(sec)"
   ]
  },
  {
   "cell_type": "code",
   "execution_count": 17,
   "id": "4e0faa61",
   "metadata": {},
   "outputs": [],
   "source": [
    "import os\n",
    "cur_dir=os.getcwd()"
   ]
  },
  {
   "cell_type": "code",
   "execution_count": 18,
   "id": "91fff3a3",
   "metadata": {},
   "outputs": [
    {
     "data": {
      "text/plain": [
       "'C:\\\\Users\\\\Phanindra Reddy\\\\Head first Python Practice'"
      ]
     },
     "execution_count": 18,
     "metadata": {},
     "output_type": "execute_result"
    }
   ],
   "source": [
    "cur_dir"
   ]
  },
  {
   "cell_type": "code",
   "execution_count": 19,
   "id": "2668820b",
   "metadata": {},
   "outputs": [
    {
     "data": {
      "text/plain": [
       "'C:\\\\Users\\\\Phanindra Reddy\\\\Head first Python Practice'"
      ]
     },
     "execution_count": 19,
     "metadata": {},
     "output_type": "execute_result"
    }
   ],
   "source": [
    "from os import getcwd\n",
    "getcwd()"
   ]
  },
  {
   "cell_type": "markdown",
   "id": "acc01b01",
   "metadata": {},
   "source": [
    "1. A collection of related functions makes up a module, and there are lots of modules in the standard library:\n",
    "2. Functions are inside modules inside the standard library.\n",
    "3. The function is part of a module which comes as part of the standard library\n",
    "4. "
   ]
  },
  {
   "cell_type": "markdown",
   "id": "3e22b758",
   "metadata": {},
   "source": [
    "# standard library\n",
    "1. The standard library is the jewel in Python’s crown, supplying reusable modules that help you with \n",
    "everything from, for example, working with data, through manipulating ZIP archives, to sending emails, \n",
    "to working with HTML. The standard library even includes a web server, as well as the popular SQLite\n",
    "database technology.\n",
    "\n",
    "2. . The sysmodule exists to help you learn more about your interpreter’s system. Here’s how to determine the identity \n",
    "of your underlying operating system, by first importing the sys module, then accessing the platform\n",
    "attribute"
   ]
  },
  {
   "cell_type": "code",
   "execution_count": 21,
   "id": "e34a8cf6",
   "metadata": {},
   "outputs": [
    {
     "data": {
      "text/plain": [
       "'win32'"
      ]
     },
     "execution_count": 21,
     "metadata": {},
     "output_type": "execute_result"
    }
   ],
   "source": [
    "import sys\n",
    "sys.platform"
   ]
  },
  {
   "cell_type": "code",
   "execution_count": 22,
   "id": "1645394d",
   "metadata": {},
   "outputs": [
    {
     "data": {
      "text/plain": [
       "'3.9.13 (main, Aug 25 2022, 23:51:50) [MSC v.1916 64 bit (AMD64)]'"
      ]
     },
     "execution_count": 22,
     "metadata": {},
     "output_type": "execute_result"
    }
   ],
   "source": [
    "sys.version"
   ]
  },
  {
   "cell_type": "code",
   "execution_count": 23,
   "id": "4d4b8442",
   "metadata": {},
   "outputs": [
    {
     "data": {
      "text/plain": [
       "'C:\\\\Users\\\\Phanindra Reddy\\\\Head first Python Practice'"
      ]
     },
     "execution_count": 23,
     "metadata": {},
     "output_type": "execute_result"
    }
   ],
   "source": [
    "os.getcwd()"
   ]
  },
  {
   "cell_type": "markdown",
   "id": "cd74aa65",
   "metadata": {},
   "source": [
    "1.You can access your system’s environment variables, as a whole (using the environ attribute) or individually (using the getenv function):"
   ]
  },
  {
   "cell_type": "code",
   "execution_count": 24,
   "id": "217fd922",
   "metadata": {},
   "outputs": [
    {
     "data": {
      "text/plain": [
       "environ{'ALLUSERSPROFILE': 'C:\\\\ProgramData',\n",
       "        'APPDATA': 'C:\\\\Users\\\\Phanindra Reddy\\\\AppData\\\\Roaming',\n",
       "        'COMMONPROGRAMFILES': 'C:\\\\Program Files\\\\Common Files',\n",
       "        'COMMONPROGRAMFILES(X86)': 'C:\\\\Program Files (x86)\\\\Common Files',\n",
       "        'COMMONPROGRAMW6432': 'C:\\\\Program Files\\\\Common Files',\n",
       "        'COMPUTERNAME': 'PHANI',\n",
       "        'COMSPEC': 'C:\\\\WINDOWS\\\\system32\\\\cmd.exe',\n",
       "        'CONDA_DEFAULT_ENV': 'base',\n",
       "        'CONDA_EXE': 'C:\\\\Users\\\\Phanindra Reddy\\\\anaconda3\\\\Scripts\\\\conda.exe',\n",
       "        'CONDA_PROMPT_MODIFIER': '(base) ',\n",
       "        'CONDA_PYTHON_EXE': 'C:\\\\Users\\\\Phanindra Reddy\\\\anaconda3\\\\python.exe',\n",
       "        'CONDA_SHLVL': '1',\n",
       "        'DRIVERDATA': 'C:\\\\Windows\\\\System32\\\\Drivers\\\\DriverData',\n",
       "        'FPS_BROWSER_APP_PROFILE_STRING': 'Internet Explorer',\n",
       "        'FPS_BROWSER_USER_PROFILE_STRING': 'Default',\n",
       "        'HOMEDRIVE': 'C:',\n",
       "        'HOMEPATH': '\\\\Users\\\\Phanindra Reddy',\n",
       "        'JAVA': 'C:\\\\Users\\\\Phanindra Reddy\\\\Downloads',\n",
       "        'JAVA_HOME': 'C:\\\\Program Files\\\\Java\\\\jdk1.8.0_291',\n",
       "        'KEYSHOT10': 'C:\\\\Users\\\\Public\\\\Documents\\\\KeyShot 10',\n",
       "        'KEYSHOT_EXTERNAL_LICENSE_FOLDER': 'C:\\\\Program Files\\\\Siemens\\\\Solid Edge 2022\\\\Program',\n",
       "        'LOCALAPPDATA': 'C:\\\\Users\\\\Phanindra Reddy\\\\AppData\\\\Local',\n",
       "        'LOGONSERVER': '\\\\\\\\PHANI',\n",
       "        'NUMBER_OF_PROCESSORS': '8',\n",
       "        'ONEDRIVE': 'C:\\\\Users\\\\Phanindra Reddy\\\\OneDrive',\n",
       "        'ONEDRIVECONSUMER': 'C:\\\\Users\\\\Phanindra Reddy\\\\OneDrive',\n",
       "        'OS': 'Windows_NT',\n",
       "        'PATH': 'C:\\\\Users\\\\Phanindra Reddy\\\\anaconda3;C:\\\\Users\\\\Phanindra Reddy\\\\anaconda3\\\\Library\\\\mingw-w64\\\\bin;C:\\\\Users\\\\Phanindra Reddy\\\\anaconda3\\\\Library\\\\usr\\\\bin;C:\\\\Users\\\\Phanindra Reddy\\\\anaconda3\\\\Library\\\\bin;C:\\\\Users\\\\Phanindra Reddy\\\\anaconda3\\\\Scripts;C:\\\\Users\\\\Phanindra Reddy\\\\anaconda3\\\\bin;C:\\\\Users\\\\Phanindra Reddy\\\\anaconda3\\\\condabin;C:\\\\Users\\\\Phanindra Reddy\\\\anaconda3;C:\\\\Users\\\\Phanindra Reddy\\\\anaconda3\\\\Library\\\\mingw-w64\\\\bin;C:\\\\Users\\\\Phanindra Reddy\\\\anaconda3\\\\Library\\\\usr\\\\bin;C:\\\\Users\\\\Phanindra Reddy\\\\anaconda3\\\\Library\\\\bin;C:\\\\Users\\\\Phanindra Reddy\\\\anaconda3\\\\Scripts;C:\\\\Program Files (x86)\\\\Common Files\\\\Oracle\\\\Java\\\\javapath;C:\\\\Windows\\\\system32;C:\\\\Windows;C:\\\\Windows\\\\System32\\\\Wbem;C:\\\\Windows\\\\System32\\\\WindowsPowerShell\\\\v1.0;C:\\\\Windows\\\\System32\\\\OpenSSH;C:\\\\Program Files (x86)\\\\NVIDIA Corporation\\\\PhysX\\\\Common;C:\\\\Program Files\\\\NVIDIA Corporation\\\\NVIDIA NvDLISR;C:\\\\WINDOWS\\\\system32;C:\\\\WINDOWS;C:\\\\WINDOWS\\\\System32\\\\Wbem;C:\\\\WINDOWS\\\\System32\\\\WindowsPowerShell\\\\v1.0;C:\\\\WINDOWS\\\\System32\\\\OpenSSH;C:\\\\Program Files\\\\Git\\\\cmd;C:\\\\Program Files\\\\Notepad++;C:\\\\Program Files (x86)\\\\Vector ICD Manager 2.1\\\\Exec32;C:\\\\Users\\\\Phanindra Reddy\\\\AppData\\\\Local\\\\Programs\\\\Python\\\\Python39;C:\\\\Users\\\\Phanindra Reddy\\\\AppData\\\\Local\\\\Programs\\\\Python\\\\Python39\\\\Scripts;C:\\\\Users\\\\Phanindra Reddy\\\\Downloads;C:\\\\driverschrome;C:\\\\Program Files\\\\nodejs;C:\\\\Program Files\\\\Java\\\\jdk1.8.0_291\\\\bin;C:\\\\Program Files\\\\Microsoft SQL Server\\\\Client SDK\\\\ODBC\\\\170\\\\Tools\\\\Binn;C:\\\\Program Files (x86)\\\\Microsoft SQL Server\\\\150\\\\Tools\\\\Binn;C:\\\\Program Files\\\\Microsoft SQL Server\\\\150\\\\Tools\\\\Binn;C:\\\\Program Files\\\\Microsoft SQL Server\\\\150\\\\DTS\\\\Binn;C:\\\\Program Files\\\\Azure Data Studio\\\\bin;C:\\\\Program Files (x86)\\\\Microsoft SQL Server\\\\150\\\\DTS\\\\Binn;C:\\\\Users\\\\Phanindra Reddy\\\\anaconda3;C:\\\\Users\\\\Phanindra Reddy\\\\anaconda3\\\\Library\\\\mingw-w64\\\\bin;C:\\\\Users\\\\Phanindra Reddy\\\\anaconda3\\\\Library\\\\usr\\\\bin;C:\\\\Users\\\\Phanindra Reddy\\\\anaconda3\\\\Library\\\\bin;C:\\\\Users\\\\Phanindra Reddy\\\\anaconda3\\\\Scripts;C:\\\\Users\\\\Phanindra Reddy\\\\AppData\\\\Local\\\\Microsoft\\\\WindowsApps;C:\\\\Users\\\\Phanindra Reddy\\\\AppData\\\\Local\\\\Programs\\\\Microsoft VS Code\\\\bin;C:\\\\Users\\\\Phanindra Reddy\\\\AppData\\\\Local\\\\GitHubDesktop\\\\bin;C:\\\\Program Files\\\\JetBrains\\\\PyCharm Community Edition 2021.1\\\\bin;C:\\\\Users\\\\Phanindra Reddy\\\\AppData\\\\Local\\\\atom\\\\bin;C:\\\\Users\\\\Phanindra Reddy\\\\AppData\\\\Roaming\\\\npm;C:\\\\Users\\\\Phanindra Reddy\\\\AppData\\\\Local\\\\Microsoft\\\\WindowsApps;C:\\\\Program Files\\\\Azure Data Studio\\\\bin',\n",
       "        'PATHEXT': '.COM;.EXE;.BAT;.CMD;.VBS;.VBE;.JS;.JSE;.WSF;.WSH;.MSC',\n",
       "        'PROCESSOR_ARCHITECTURE': 'AMD64',\n",
       "        'PROCESSOR_IDENTIFIER': 'Intel64 Family 6 Model 142 Stepping 12, GenuineIntel',\n",
       "        'PROCESSOR_LEVEL': '6',\n",
       "        'PROCESSOR_REVISION': '8e0c',\n",
       "        'PROGRAMDATA': 'C:\\\\ProgramData',\n",
       "        'PROGRAMFILES': 'C:\\\\Program Files',\n",
       "        'PROGRAMFILES(X86)': 'C:\\\\Program Files (x86)',\n",
       "        'PROGRAMW6432': 'C:\\\\Program Files',\n",
       "        'PROMPT': '(base) $P$G',\n",
       "        'PSMODULEPATH': 'C:\\\\Program Files\\\\WindowsPowerShell\\\\Modules;C:\\\\WINDOWS\\\\system32\\\\WindowsPowerShell\\\\v1.0\\\\Modules;C:\\\\Program Files (x86)\\\\Microsoft SQL Server\\\\150\\\\Tools\\\\PowerShell\\\\Modules\\\\',\n",
       "        'PUBLIC': 'C:\\\\Users\\\\Public',\n",
       "        'PYCHARM COMMUNITY EDITION': 'C:\\\\Program Files\\\\JetBrains\\\\PyCharm Community Edition 2021.1\\\\bin;',\n",
       "        'P_SCHEMA': 'C:\\\\Program Files\\\\Siemens\\\\Solid Edge 2022\\\\Schema',\n",
       "        'SESSIONNAME': 'Console',\n",
       "        'SE_LICENSE_SERVER': 'C:\\\\Program Files\\\\Siemens\\\\Solid Edge 2022\\\\Preferences\\\\SELicense.lic',\n",
       "        'SYSTEMDRIVE': 'C:',\n",
       "        'SYSTEMROOT': 'C:\\\\WINDOWS',\n",
       "        'TEMP': 'C:\\\\Users\\\\PHANIN~1\\\\AppData\\\\Local\\\\Temp',\n",
       "        'TMP': 'C:\\\\Users\\\\PHANIN~1\\\\AppData\\\\Local\\\\Temp',\n",
       "        'USERDOMAIN': 'PHANI',\n",
       "        'USERDOMAIN_ROAMINGPROFILE': 'PHANI',\n",
       "        'USERNAME': 'Phanindra Reddy',\n",
       "        'USERPROFILE': 'C:\\\\Users\\\\Phanindra Reddy',\n",
       "        'VBOX_MSI_INSTALL_PATH': 'C:\\\\Program Files\\\\Oracle\\\\VirtualBox\\\\',\n",
       "        'WINDIR': 'C:\\\\WINDOWS',\n",
       "        'CONDA_PREFIX': 'C:\\\\Users\\\\Phanindra Reddy\\\\anaconda3',\n",
       "        'CONDA_ROOT': 'C:\\\\Users\\\\Phanindra Reddy\\\\anaconda3',\n",
       "        'PYDEVD_USE_FRAME_EVAL': 'NO',\n",
       "        'JPY_INTERRUPT_EVENT': '3040',\n",
       "        'IPY_INTERRUPT_EVENT': '3040',\n",
       "        'JPY_PARENT_PID': '3348',\n",
       "        'TERM': 'xterm-color',\n",
       "        'CLICOLOR': '1',\n",
       "        'PAGER': 'cat',\n",
       "        'GIT_PAGER': 'cat',\n",
       "        'MPLBACKEND': 'module://matplotlib_inline.backend_inline'}"
      ]
     },
     "execution_count": 24,
     "metadata": {},
     "output_type": "execute_result"
    }
   ],
   "source": [
    "os.environ"
   ]
  },
  {
   "cell_type": "code",
   "execution_count": 26,
   "id": "42703040",
   "metadata": {},
   "outputs": [
    {
     "data": {
      "text/plain": [
       "'cat'"
      ]
     },
     "execution_count": 26,
     "metadata": {},
     "output_type": "execute_result"
    }
   ],
   "source": [
    "os.getenv(\"PAGER\")"
   ]
  },
  {
   "cell_type": "code",
   "execution_count": 27,
   "id": "72ceb3d3",
   "metadata": {},
   "outputs": [
    {
     "data": {
      "text/plain": [
       "datetime.date(2023, 2, 18)"
      ]
     },
     "execution_count": 27,
     "metadata": {},
     "output_type": "execute_result"
    }
   ],
   "source": [
    "import datetime\n",
    "datetime.date.today()"
   ]
  },
  {
   "cell_type": "code",
   "execution_count": 29,
   "id": "a4ae3271",
   "metadata": {},
   "outputs": [
    {
     "data": {
      "text/plain": [
       "18"
      ]
     },
     "execution_count": 29,
     "metadata": {},
     "output_type": "execute_result"
    }
   ],
   "source": [
    "datetime.date.today().day"
   ]
  },
  {
   "cell_type": "code",
   "execution_count": 31,
   "id": "7ce9d4a5",
   "metadata": {},
   "outputs": [
    {
     "name": "stdout",
     "output_type": "stream",
     "text": [
      "2\n",
      "2023\n"
     ]
    }
   ],
   "source": [
    "print(datetime.date.today().month)\n",
    "\n",
    "print(datetime.date.today().year)"
   ]
  },
  {
   "cell_type": "markdown",
   "id": "ef4b64e2",
   "metadata": {},
   "source": [
    "# 1. Python variables are dynamically assigned which means no need to declare the datatype of variable before using them \n",
    "2. Statically typed programming language means we need to declare the data type of variable before we using them in the program"
   ]
  },
  {
   "cell_type": "markdown",
   "id": "b0c00515",
   "metadata": {},
   "source": [
    "# Python variables are dynamically assigned\n",
    "1.In Python, variables pop into existence the first time you use them, and their \n",
    "type does not need to be predeclared.\n",
    "\n",
    "2. Python uses indentation to demarcate a block of code, which Python programmers \n",
    "prefer to call suite as opposed to block (just to mix things up a little).\n",
    "\n",
    "3.Instead of referring to a code “block,” Python programmers use the word “suite.” \n",
    "Both names are used in practice, but the Python docs prefer “suite.”"
   ]
  },
  {
   "cell_type": "markdown",
   "id": "c2141e8f",
   "metadata": {},
   "source": [
    "4. It is important to note that code at the same level of indentation is only related to other code at the same level of indentation if all the code appears within the same suite. \n",
    "\n",
    "5.Otherwise, they are in separate suites, and it does not matter that they share a level of indentation. \n",
    "\n",
    "6. The key point is that indentation is used to demarcate suites of code in Python. \n"
   ]
  },
  {
   "cell_type": "markdown",
   "id": "5bff3447",
   "metadata": {},
   "source": [
    "# Pause execution.\n",
    "Python’s standard time module provides a function called sleep that can pause execution for an \n",
    "indicated number of seconds"
   ]
  },
  {
   "cell_type": "code",
   "execution_count": 35,
   "id": "358a2e1d",
   "metadata": {},
   "outputs": [
    {
     "name": "stdout",
     "output_type": "stream",
     "text": [
      "100\n"
     ]
    }
   ],
   "source": [
    "\n",
    "import time\n",
    "time.sleep(10) # after ten seconds gives the output\n",
    "print(100)"
   ]
  },
  {
   "cell_type": "code",
   "execution_count": null,
   "id": "ede267ed",
   "metadata": {},
   "outputs": [],
   "source": []
  },
  {
   "cell_type": "markdown",
   "id": "60637a20",
   "metadata": {},
   "source": [
    "# Python for loop"
   ]
  },
  {
   "cell_type": "code",
   "execution_count": 36,
   "id": "25dd1c58",
   "metadata": {},
   "outputs": [],
   "source": [
    "# Use “for” when looping a known number of times.\n",
    "# A sequence is an ordered collection of objects."
   ]
  },
  {
   "cell_type": "markdown",
   "id": "9119e4bb",
   "metadata": {},
   "source": [
    "# Iterating a Specific Number of Times\n",
    "1.In addition to using for to iterate over a sequence, you can be more exact \n",
    "and specify a number of iterations, thanks to the built-in function called \n",
    "range."
   ]
  },
  {
   "cell_type": "code",
   "execution_count": 37,
   "id": "3bcdfc83",
   "metadata": {},
   "outputs": [
    {
     "name": "stdout",
     "output_type": "stream",
     "text": [
      "0\n",
      "1\n",
      "2\n",
      "3\n",
      "4\n"
     ]
    }
   ],
   "source": [
    "for num in range(5):\n",
    "    print(num)"
   ]
  },
  {
   "cell_type": "code",
   "execution_count": 39,
   "id": "c87a6b0c",
   "metadata": {},
   "outputs": [
    {
     "data": {
      "text/plain": [
       "['BPF',\n",
       " 'LOG4',\n",
       " 'NV_MAGICCONST',\n",
       " 'RECIP_BPF',\n",
       " 'Random',\n",
       " 'SG_MAGICCONST',\n",
       " 'SystemRandom',\n",
       " 'TWOPI',\n",
       " '_Sequence',\n",
       " '_Set',\n",
       " '__all__',\n",
       " '__builtins__',\n",
       " '__cached__',\n",
       " '__doc__',\n",
       " '__file__',\n",
       " '__loader__',\n",
       " '__name__',\n",
       " '__package__',\n",
       " '__spec__',\n",
       " '_accumulate',\n",
       " '_acos',\n",
       " '_bisect',\n",
       " '_ceil',\n",
       " '_cos',\n",
       " '_e',\n",
       " '_exp',\n",
       " '_floor',\n",
       " '_inst',\n",
       " '_log',\n",
       " '_os',\n",
       " '_pi',\n",
       " '_random',\n",
       " '_repeat',\n",
       " '_sha512',\n",
       " '_sin',\n",
       " '_sqrt',\n",
       " '_test',\n",
       " '_test_generator',\n",
       " '_urandom',\n",
       " '_warn',\n",
       " 'betavariate',\n",
       " 'choice',\n",
       " 'choices',\n",
       " 'expovariate',\n",
       " 'gammavariate',\n",
       " 'gauss',\n",
       " 'getrandbits',\n",
       " 'getstate',\n",
       " 'lognormvariate',\n",
       " 'normalvariate',\n",
       " 'paretovariate',\n",
       " 'randbytes',\n",
       " 'randint',\n",
       " 'random',\n",
       " 'randrange',\n",
       " 'sample',\n",
       " 'seed',\n",
       " 'setstate',\n",
       " 'shuffle',\n",
       " 'triangular',\n",
       " 'uniform',\n",
       " 'vonmisesvariate',\n",
       " 'weibullvariate']"
      ]
     },
     "execution_count": 39,
     "metadata": {},
     "output_type": "execute_result"
    }
   ],
   "source": [
    "import random\n",
    "dir(random) # The first is called dir, and it displays all the attributes associated with anything in Python, including modules:"
   ]
  },
  {
   "cell_type": "code",
   "execution_count": 43,
   "id": "552ee323",
   "metadata": {},
   "outputs": [
    {
     "name": "stdout",
     "output_type": "stream",
     "text": [
      "Help on method randint in module random:\n",
      "\n",
      "randint(a, b) method of random.Random instance\n",
      "    Return random integer in range [a, b], including both end points.\n",
      "\n"
     ]
    }
   ],
   "source": [
    "help(random.randint)"
   ]
  },
  {
   "cell_type": "code",
   "execution_count": 44,
   "id": "de04a430",
   "metadata": {},
   "outputs": [
    {
     "data": {
      "text/plain": [
       "625698"
      ]
     },
     "execution_count": 44,
     "metadata": {},
     "output_type": "execute_result"
    }
   ],
   "source": [
    "random.randint(111111,999999)"
   ]
  },
  {
   "cell_type": "markdown",
   "id": "1eb891ad",
   "metadata": {},
   "source": [
    "# ranges"
   ]
  },
  {
   "cell_type": "code",
   "execution_count": 45,
   "id": "3e01e67a",
   "metadata": {},
   "outputs": [
    {
     "data": {
      "text/plain": [
       "range(0, 10)"
      ]
     },
     "execution_count": 45,
     "metadata": {},
     "output_type": "execute_result"
    }
   ],
   "source": [
    "range(0,10)"
   ]
  },
  {
   "cell_type": "code",
   "execution_count": 46,
   "id": "bf1cd96e",
   "metadata": {},
   "outputs": [
    {
     "data": {
      "text/plain": [
       "[0, 1, 2, 3, 4, 5, 6, 7, 8, 9]"
      ]
     },
     "execution_count": 46,
     "metadata": {},
     "output_type": "execute_result"
    }
   ],
   "source": [
    "list(range(10))"
   ]
  },
  {
   "cell_type": "code",
   "execution_count": 47,
   "id": "9f662ad1",
   "metadata": {},
   "outputs": [
    {
     "data": {
      "text/plain": [
       "[0, 2, 4, 6, 8]"
      ]
     },
     "execution_count": 47,
     "metadata": {},
     "output_type": "execute_result"
    }
   ],
   "source": [
    "list(range(0,10,2))"
   ]
  },
  {
   "cell_type": "code",
   "execution_count": 48,
   "id": "ef504822",
   "metadata": {},
   "outputs": [
    {
     "data": {
      "text/plain": [
       "[99,\n",
       " 98,\n",
       " 97,\n",
       " 96,\n",
       " 95,\n",
       " 94,\n",
       " 93,\n",
       " 92,\n",
       " 91,\n",
       " 90,\n",
       " 89,\n",
       " 88,\n",
       " 87,\n",
       " 86,\n",
       " 85,\n",
       " 84,\n",
       " 83,\n",
       " 82,\n",
       " 81,\n",
       " 80,\n",
       " 79,\n",
       " 78,\n",
       " 77,\n",
       " 76,\n",
       " 75,\n",
       " 74,\n",
       " 73,\n",
       " 72,\n",
       " 71,\n",
       " 70,\n",
       " 69,\n",
       " 68,\n",
       " 67,\n",
       " 66,\n",
       " 65,\n",
       " 64,\n",
       " 63,\n",
       " 62,\n",
       " 61,\n",
       " 60,\n",
       " 59,\n",
       " 58,\n",
       " 57,\n",
       " 56,\n",
       " 55,\n",
       " 54,\n",
       " 53,\n",
       " 52,\n",
       " 51,\n",
       " 50,\n",
       " 49,\n",
       " 48,\n",
       " 47,\n",
       " 46,\n",
       " 45,\n",
       " 44,\n",
       " 43,\n",
       " 42,\n",
       " 41,\n",
       " 40,\n",
       " 39,\n",
       " 38,\n",
       " 37,\n",
       " 36,\n",
       " 35,\n",
       " 34,\n",
       " 33,\n",
       " 32,\n",
       " 31,\n",
       " 30,\n",
       " 29,\n",
       " 28,\n",
       " 27,\n",
       " 26,\n",
       " 25,\n",
       " 24,\n",
       " 23,\n",
       " 22,\n",
       " 21,\n",
       " 20,\n",
       " 19,\n",
       " 18,\n",
       " 17,\n",
       " 16,\n",
       " 15,\n",
       " 14,\n",
       " 13,\n",
       " 12,\n",
       " 11,\n",
       " 10,\n",
       " 9,\n",
       " 8,\n",
       " 7,\n",
       " 6,\n",
       " 5,\n",
       " 4,\n",
       " 3,\n",
       " 2,\n",
       " 1]"
      ]
     },
     "execution_count": 48,
     "metadata": {},
     "output_type": "execute_result"
    }
   ],
   "source": [
    "list(range(99,0,-1))"
   ]
  },
  {
   "cell_type": "code",
   "execution_count": 50,
   "id": "d20ecb37",
   "metadata": {},
   "outputs": [
    {
     "data": {
      "text/plain": [
       "[]"
      ]
     },
     "execution_count": 50,
     "metadata": {},
     "output_type": "execute_result"
    }
   ],
   "source": [
    "list(range(1,10,-1)) # gives empty here  y. If your START value is bigger than your STOP value, and STEP is positive, \n",
    "#you get back nothing (in this case, an empty list).\n"
   ]
  },
  {
   "cell_type": "code",
   "execution_count": 51,
   "id": "02deac80",
   "metadata": {},
   "outputs": [
    {
     "data": {
      "text/plain": [
       "'2023-02-18'"
      ]
     },
     "execution_count": 51,
     "metadata": {},
     "output_type": "execute_result"
    }
   ],
   "source": [
    "# You can also invoke the date.isoformat function and pass in today’s date to display a much more user\u0002friendly version of today’s date, which is converted to a string by isoformat:\n",
    "datetime.date.isoformat(datetime.date.today())\n",
    "\n"
   ]
  },
  {
   "cell_type": "code",
   "execution_count": 52,
   "id": "7b7274a8",
   "metadata": {},
   "outputs": [
    {
     "data": {
      "text/plain": [
       "'19:17'"
      ]
     },
     "execution_count": 52,
     "metadata": {},
     "output_type": "execute_result"
    }
   ],
   "source": [
    "import time\n",
    "time.strftime(\"%H:%M\")\n"
   ]
  },
  {
   "cell_type": "code",
   "execution_count": null,
   "id": "0c537a83",
   "metadata": {},
   "outputs": [],
   "source": []
  }
 ],
 "metadata": {
  "kernelspec": {
   "display_name": "Python 3 (ipykernel)",
   "language": "python",
   "name": "python3"
  },
  "language_info": {
   "codemirror_mode": {
    "name": "ipython",
    "version": 3
   },
   "file_extension": ".py",
   "mimetype": "text/x-python",
   "name": "python",
   "nbconvert_exporter": "python",
   "pygments_lexer": "ipython3",
   "version": "3.9.13"
  }
 },
 "nbformat": 4,
 "nbformat_minor": 5
}
